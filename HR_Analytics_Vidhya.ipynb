{
 "cells": [
  {
   "cell_type": "code",
   "execution_count": 2,
   "metadata": {
    "colab": {},
    "colab_type": "code",
    "id": "xETP3yTMNyR4"
   },
   "outputs": [],
   "source": [
    "%matplotlib inline\n",
    "import warnings\n",
    "warnings.filterwarnings(\"ignore\")\n",
    "\n",
    "import pandas as pd\n",
    "import numpy as np\n",
    "import string\n",
    "import matplotlib.pyplot as plt\n",
    "import seaborn as sns\n",
    "from sklearn.feature_extraction.text import TfidfVectorizer\n",
    "\n",
    "from sklearn.feature_extraction.text import CountVectorizer\n",
    "from sklearn.metrics import confusion_matrix\n",
    "from sklearn import metrics\n",
    "from sklearn.metrics import roc_curve, auc\n",
    "\n",
    "from sklearn.model_selection import StratifiedKFold\n",
    "from sklearn.model_selection import GridSearchCV\n",
    "from xgboost import XGBClassifier\n",
    "from sklearn.metrics import f1_score\n",
    "\n",
    "import re\n",
    "import string\n",
    "\n",
    "import os\n",
    "\n",
    "from collections import Counter\n",
    "import types\n",
    "import pandas as pd"
   ]
  },
  {
   "cell_type": "code",
   "execution_count": 3,
   "metadata": {
    "colab": {
     "base_uri": "https://localhost:8080/",
     "height": 282
    },
    "colab_type": "code",
    "id": "7Zq-OX3xNySF",
    "outputId": "6971859b-7111-423d-879f-37352f21398d",
    "scrolled": true
   },
   "outputs": [
    {
     "data": {
      "text/html": [
       "<div>\n",
       "<style scoped>\n",
       "    .dataframe tbody tr th:only-of-type {\n",
       "        vertical-align: middle;\n",
       "    }\n",
       "\n",
       "    .dataframe tbody tr th {\n",
       "        vertical-align: top;\n",
       "    }\n",
       "\n",
       "    .dataframe thead th {\n",
       "        text-align: right;\n",
       "    }\n",
       "</style>\n",
       "<table border=\"1\" class=\"dataframe\">\n",
       "  <thead>\n",
       "    <tr style=\"text-align: right;\">\n",
       "      <th></th>\n",
       "      <th>employee_id</th>\n",
       "      <th>department</th>\n",
       "      <th>region</th>\n",
       "      <th>education</th>\n",
       "      <th>gender</th>\n",
       "      <th>recruitment_channel</th>\n",
       "      <th>no_of_trainings</th>\n",
       "      <th>age</th>\n",
       "      <th>previous_year_rating</th>\n",
       "      <th>length_of_service</th>\n",
       "      <th>KPIs_met &gt;80%</th>\n",
       "      <th>awards_won?</th>\n",
       "      <th>avg_training_score</th>\n",
       "      <th>is_promoted</th>\n",
       "    </tr>\n",
       "  </thead>\n",
       "  <tbody>\n",
       "    <tr>\n",
       "      <th>0</th>\n",
       "      <td>65438</td>\n",
       "      <td>Sales &amp; Marketing</td>\n",
       "      <td>region_7</td>\n",
       "      <td>Master's &amp; above</td>\n",
       "      <td>f</td>\n",
       "      <td>sourcing</td>\n",
       "      <td>1</td>\n",
       "      <td>35</td>\n",
       "      <td>5.0</td>\n",
       "      <td>8</td>\n",
       "      <td>1</td>\n",
       "      <td>0</td>\n",
       "      <td>49</td>\n",
       "      <td>0</td>\n",
       "    </tr>\n",
       "    <tr>\n",
       "      <th>1</th>\n",
       "      <td>65141</td>\n",
       "      <td>Operations</td>\n",
       "      <td>region_22</td>\n",
       "      <td>Bachelor's</td>\n",
       "      <td>m</td>\n",
       "      <td>other</td>\n",
       "      <td>1</td>\n",
       "      <td>30</td>\n",
       "      <td>5.0</td>\n",
       "      <td>4</td>\n",
       "      <td>0</td>\n",
       "      <td>0</td>\n",
       "      <td>60</td>\n",
       "      <td>0</td>\n",
       "    </tr>\n",
       "    <tr>\n",
       "      <th>2</th>\n",
       "      <td>7513</td>\n",
       "      <td>Sales &amp; Marketing</td>\n",
       "      <td>region_19</td>\n",
       "      <td>Bachelor's</td>\n",
       "      <td>m</td>\n",
       "      <td>sourcing</td>\n",
       "      <td>1</td>\n",
       "      <td>34</td>\n",
       "      <td>3.0</td>\n",
       "      <td>7</td>\n",
       "      <td>0</td>\n",
       "      <td>0</td>\n",
       "      <td>50</td>\n",
       "      <td>0</td>\n",
       "    </tr>\n",
       "    <tr>\n",
       "      <th>3</th>\n",
       "      <td>2542</td>\n",
       "      <td>Sales &amp; Marketing</td>\n",
       "      <td>region_23</td>\n",
       "      <td>Bachelor's</td>\n",
       "      <td>m</td>\n",
       "      <td>other</td>\n",
       "      <td>2</td>\n",
       "      <td>39</td>\n",
       "      <td>1.0</td>\n",
       "      <td>10</td>\n",
       "      <td>0</td>\n",
       "      <td>0</td>\n",
       "      <td>50</td>\n",
       "      <td>0</td>\n",
       "    </tr>\n",
       "    <tr>\n",
       "      <th>4</th>\n",
       "      <td>48945</td>\n",
       "      <td>Technology</td>\n",
       "      <td>region_26</td>\n",
       "      <td>Bachelor's</td>\n",
       "      <td>m</td>\n",
       "      <td>other</td>\n",
       "      <td>1</td>\n",
       "      <td>45</td>\n",
       "      <td>3.0</td>\n",
       "      <td>2</td>\n",
       "      <td>0</td>\n",
       "      <td>0</td>\n",
       "      <td>73</td>\n",
       "      <td>0</td>\n",
       "    </tr>\n",
       "  </tbody>\n",
       "</table>\n",
       "</div>"
      ],
      "text/plain": [
       "   employee_id         department     region         education gender  \\\n",
       "0        65438  Sales & Marketing   region_7  Master's & above      f   \n",
       "1        65141         Operations  region_22        Bachelor's      m   \n",
       "2         7513  Sales & Marketing  region_19        Bachelor's      m   \n",
       "3         2542  Sales & Marketing  region_23        Bachelor's      m   \n",
       "4        48945         Technology  region_26        Bachelor's      m   \n",
       "\n",
       "  recruitment_channel  no_of_trainings  age  previous_year_rating  \\\n",
       "0            sourcing                1   35                   5.0   \n",
       "1               other                1   30                   5.0   \n",
       "2            sourcing                1   34                   3.0   \n",
       "3               other                2   39                   1.0   \n",
       "4               other                1   45                   3.0   \n",
       "\n",
       "   length_of_service  KPIs_met >80%  awards_won?  avg_training_score  \\\n",
       "0                  8              1            0                  49   \n",
       "1                  4              0            0                  60   \n",
       "2                  7              0            0                  50   \n",
       "3                 10              0            0                  50   \n",
       "4                  2              0            0                  73   \n",
       "\n",
       "   is_promoted  \n",
       "0            0  \n",
       "1            0  \n",
       "2            0  \n",
       "3            0  \n",
       "4            0  "
      ]
     },
     "execution_count": 3,
     "metadata": {},
     "output_type": "execute_result"
    }
   ],
   "source": [
    "train_data = pd.read_csv('train_data.csv')\n",
    "train_data.head()  "
   ]
  },
  {
   "cell_type": "code",
   "execution_count": 4,
   "metadata": {
    "colab": {
     "base_uri": "https://localhost:8080/",
     "height": 143
    },
    "colab_type": "code",
    "id": "5-llpuB7NyST",
    "outputId": "e6ad4a98-dba5-477d-a1ed-fea6b24258d0"
   },
   "outputs": [
    {
     "data": {
      "text/html": [
       "<div>\n",
       "<style scoped>\n",
       "    .dataframe tbody tr th:only-of-type {\n",
       "        vertical-align: middle;\n",
       "    }\n",
       "\n",
       "    .dataframe tbody tr th {\n",
       "        vertical-align: top;\n",
       "    }\n",
       "\n",
       "    .dataframe thead th {\n",
       "        text-align: right;\n",
       "    }\n",
       "</style>\n",
       "<table border=\"1\" class=\"dataframe\">\n",
       "  <thead>\n",
       "    <tr style=\"text-align: right;\">\n",
       "      <th></th>\n",
       "      <th>employee_id</th>\n",
       "      <th>department</th>\n",
       "      <th>region</th>\n",
       "      <th>education</th>\n",
       "      <th>gender</th>\n",
       "      <th>recruitment_channel</th>\n",
       "      <th>no_of_trainings</th>\n",
       "      <th>age</th>\n",
       "      <th>previous_year_rating</th>\n",
       "      <th>length_of_service</th>\n",
       "      <th>KPIs_met &gt;80%</th>\n",
       "      <th>awards_won?</th>\n",
       "      <th>avg_training_score</th>\n",
       "    </tr>\n",
       "  </thead>\n",
       "  <tbody>\n",
       "    <tr>\n",
       "      <th>0</th>\n",
       "      <td>8724</td>\n",
       "      <td>Technology</td>\n",
       "      <td>region_26</td>\n",
       "      <td>Bachelor's</td>\n",
       "      <td>m</td>\n",
       "      <td>sourcing</td>\n",
       "      <td>1</td>\n",
       "      <td>24</td>\n",
       "      <td>NaN</td>\n",
       "      <td>1</td>\n",
       "      <td>1</td>\n",
       "      <td>0</td>\n",
       "      <td>77</td>\n",
       "    </tr>\n",
       "    <tr>\n",
       "      <th>1</th>\n",
       "      <td>74430</td>\n",
       "      <td>HR</td>\n",
       "      <td>region_4</td>\n",
       "      <td>Bachelor's</td>\n",
       "      <td>f</td>\n",
       "      <td>other</td>\n",
       "      <td>1</td>\n",
       "      <td>31</td>\n",
       "      <td>3.0</td>\n",
       "      <td>5</td>\n",
       "      <td>0</td>\n",
       "      <td>0</td>\n",
       "      <td>51</td>\n",
       "    </tr>\n",
       "  </tbody>\n",
       "</table>\n",
       "</div>"
      ],
      "text/plain": [
       "   employee_id  department     region   education gender recruitment_channel  \\\n",
       "0         8724  Technology  region_26  Bachelor's      m            sourcing   \n",
       "1        74430          HR   region_4  Bachelor's      f               other   \n",
       "\n",
       "   no_of_trainings  age  previous_year_rating  length_of_service  \\\n",
       "0                1   24                   NaN                  1   \n",
       "1                1   31                   3.0                  5   \n",
       "\n",
       "   KPIs_met >80%  awards_won?  avg_training_score  \n",
       "0              1            0                  77  \n",
       "1              0            0                  51  "
      ]
     },
     "execution_count": 4,
     "metadata": {},
     "output_type": "execute_result"
    }
   ],
   "source": [
    "test_data = pd.read_csv('test_data.csv')\n",
    "\n",
    "test_data.head(2)"
   ]
  },
  {
   "cell_type": "code",
   "execution_count": 5,
   "metadata": {
    "colab": {
     "base_uri": "https://localhost:8080/",
     "height": 118
    },
    "colab_type": "code",
    "id": "iqfTG6-sNySY",
    "outputId": "890accad-9753-40b7-dd6a-9bd103d884fd"
   },
   "outputs": [
    {
     "name": "stdout",
     "output_type": "stream",
     "text": [
      "Number of data points in train data (54808, 14)\n",
      "--------------------------------------------------\n",
      "The attributes of data : ['employee_id' 'department' 'region' 'education' 'gender'\n",
      " 'recruitment_channel' 'no_of_trainings' 'age' 'previous_year_rating'\n",
      " 'length_of_service' 'KPIs_met >80%' 'awards_won?' 'avg_training_score'\n",
      " 'is_promoted']\n"
     ]
    }
   ],
   "source": [
    "print(\"Number of data points in train data\", train_data.shape)\n",
    "print('-'*50)\n",
    "print(\"The attributes of data :\", train_data.columns.values)"
   ]
  },
  {
   "cell_type": "markdown",
   "metadata": {
    "colab_type": "text",
    "id": "uitJPCqONySd"
   },
   "source": [
    "<h2>Exploratory Data Analysis</h2>"
   ]
  },
  {
   "cell_type": "markdown",
   "metadata": {
    "colab_type": "text",
    "id": "0Fdseil1NySe"
   },
   "source": [
    "<h3>Univariate Analysis</h3>"
   ]
  },
  {
   "cell_type": "code",
   "execution_count": 6,
   "metadata": {
    "colab": {
     "base_uri": "https://localhost:8080/",
     "height": 67
    },
    "colab_type": "code",
    "id": "cZrT-z-cNySf",
    "outputId": "bfe2573c-bda3-46d7-aef0-0a4a2802324c"
   },
   "outputs": [
    {
     "data": {
      "text/plain": [
       "0    50140\n",
       "1     4668\n",
       "Name: is_promoted, dtype: int64"
      ]
     },
     "execution_count": 6,
     "metadata": {},
     "output_type": "execute_result"
    }
   ],
   "source": [
    "count_pro = train_data['is_promoted'].value_counts()\n",
    "count_pro"
   ]
  },
  {
   "cell_type": "code",
   "execution_count": 7,
   "metadata": {
    "colab": {
     "base_uri": "https://localhost:8080/",
     "height": 279
    },
    "colab_type": "code",
    "id": "H27tQ6uKNySk",
    "outputId": "7b6b7aa7-1edb-4f4f-ca41-a6c5a716c44c"
   },
   "outputs": [
    {
     "data": {
      "text/plain": [
       "<matplotlib.axes._subplots.AxesSubplot at 0x1de8bed3828>"
      ]
     },
     "execution_count": 7,
     "metadata": {},
     "output_type": "execute_result"
    },
    {
     "data": {
      "image/png": "[encoded data removed]",
      "text/plain": [
       "<Figure size 432x288 with 1 Axes>"
      ]
     },
     "metadata": {
      "needs_background": "light"
     },
     "output_type": "display_data"
    }
   ],
   "source": [
    "train_data[\"is_promoted\"].value_counts().plot.bar()"
   ]
  },
  {
   "cell_type": "markdown",
   "metadata": {
    "colab_type": "text",
    "id": "jUg3oejnNySo"
   },
   "source": [
    "As we can see from above graph, the HR data is an imbalanced dataset.\n",
    "Where people promoted are very less as compared to not promoted. So, we need to to upsampling."
   ]
  },
  {
   "cell_type": "code",
   "execution_count": 8,
   "metadata": {
    "colab": {
     "base_uri": "https://localhost:8080/",
     "height": 284
    },
    "colab_type": "code",
    "id": "8QtugfZONySp",
    "outputId": "6f3a8c50-ffc5-4e21-dd36-1e5bd27997b2"
   },
   "outputs": [
    {
     "data": {
      "text/html": [
       "<div>\n",
       "<style scoped>\n",
       "    .dataframe tbody tr th:only-of-type {\n",
       "        vertical-align: middle;\n",
       "    }\n",
       "\n",
       "    .dataframe tbody tr th {\n",
       "        vertical-align: top;\n",
       "    }\n",
       "\n",
       "    .dataframe thead th {\n",
       "        text-align: right;\n",
       "    }\n",
       "</style>\n",
       "<table border=\"1\" class=\"dataframe\">\n",
       "  <thead>\n",
       "    <tr style=\"text-align: right;\">\n",
       "      <th></th>\n",
       "      <th>employee_id</th>\n",
       "      <th>no_of_trainings</th>\n",
       "      <th>age</th>\n",
       "      <th>previous_year_rating</th>\n",
       "      <th>length_of_service</th>\n",
       "      <th>KPIs_met &gt;80%</th>\n",
       "      <th>awards_won?</th>\n",
       "      <th>avg_training_score</th>\n",
       "      <th>is_promoted</th>\n",
       "    </tr>\n",
       "  </thead>\n",
       "  <tbody>\n",
       "    <tr>\n",
       "      <th>count</th>\n",
       "      <td>54808.000000</td>\n",
       "      <td>54808.000000</td>\n",
       "      <td>54808.000000</td>\n",
       "      <td>50684.000000</td>\n",
       "      <td>54808.000000</td>\n",
       "      <td>54808.000000</td>\n",
       "      <td>54808.000000</td>\n",
       "      <td>54808.000000</td>\n",
       "      <td>54808.000000</td>\n",
       "    </tr>\n",
       "    <tr>\n",
       "      <th>mean</th>\n",
       "      <td>39195.830627</td>\n",
       "      <td>1.253011</td>\n",
       "      <td>34.803915</td>\n",
       "      <td>3.329256</td>\n",
       "      <td>5.865512</td>\n",
       "      <td>0.351974</td>\n",
       "      <td>0.023172</td>\n",
       "      <td>63.386750</td>\n",
       "      <td>0.085170</td>\n",
       "    </tr>\n",
       "    <tr>\n",
       "      <th>std</th>\n",
       "      <td>22586.581449</td>\n",
       "      <td>0.609264</td>\n",
       "      <td>7.660169</td>\n",
       "      <td>1.259993</td>\n",
       "      <td>4.265094</td>\n",
       "      <td>0.477590</td>\n",
       "      <td>0.150450</td>\n",
       "      <td>13.371559</td>\n",
       "      <td>0.279137</td>\n",
       "    </tr>\n",
       "    <tr>\n",
       "      <th>min</th>\n",
       "      <td>1.000000</td>\n",
       "      <td>1.000000</td>\n",
       "      <td>20.000000</td>\n",
       "      <td>1.000000</td>\n",
       "      <td>1.000000</td>\n",
       "      <td>0.000000</td>\n",
       "      <td>0.000000</td>\n",
       "      <td>39.000000</td>\n",
       "      <td>0.000000</td>\n",
       "    </tr>\n",
       "    <tr>\n",
       "      <th>25%</th>\n",
       "      <td>19669.750000</td>\n",
       "      <td>1.000000</td>\n",
       "      <td>29.000000</td>\n",
       "      <td>3.000000</td>\n",
       "      <td>3.000000</td>\n",
       "      <td>0.000000</td>\n",
       "      <td>0.000000</td>\n",
       "      <td>51.000000</td>\n",
       "      <td>0.000000</td>\n",
       "    </tr>\n",
       "    <tr>\n",
       "      <th>50%</th>\n",
       "      <td>39225.500000</td>\n",
       "      <td>1.000000</td>\n",
       "      <td>33.000000</td>\n",
       "      <td>3.000000</td>\n",
       "      <td>5.000000</td>\n",
       "      <td>0.000000</td>\n",
       "      <td>0.000000</td>\n",
       "      <td>60.000000</td>\n",
       "      <td>0.000000</td>\n",
       "    </tr>\n",
       "    <tr>\n",
       "      <th>75%</th>\n",
       "      <td>58730.500000</td>\n",
       "      <td>1.000000</td>\n",
       "      <td>39.000000</td>\n",
       "      <td>4.000000</td>\n",
       "      <td>7.000000</td>\n",
       "      <td>1.000000</td>\n",
       "      <td>0.000000</td>\n",
       "      <td>76.000000</td>\n",
       "      <td>0.000000</td>\n",
       "    </tr>\n",
       "    <tr>\n",
       "      <th>max</th>\n",
       "      <td>78298.000000</td>\n",
       "      <td>10.000000</td>\n",
       "      <td>60.000000</td>\n",
       "      <td>5.000000</td>\n",
       "      <td>37.000000</td>\n",
       "      <td>1.000000</td>\n",
       "      <td>1.000000</td>\n",
       "      <td>99.000000</td>\n",
       "      <td>1.000000</td>\n",
       "    </tr>\n",
       "  </tbody>\n",
       "</table>\n",
       "</div>"
      ],
      "text/plain": [
       "        employee_id  no_of_trainings           age  previous_year_rating  \\\n",
       "count  54808.000000     54808.000000  54808.000000          50684.000000   \n",
       "mean   39195.830627         1.253011     34.803915              3.329256   \n",
       "std    22586.581449         0.609264      7.660169              1.259993   \n",
       "min        1.000000         1.000000     20.000000              1.000000   \n",
       "25%    19669.750000         1.000000     29.000000              3.000000   \n",
       "50%    39225.500000         1.000000     33.000000              3.000000   \n",
       "75%    58730.500000         1.000000     39.000000              4.000000   \n",
       "max    78298.000000        10.000000     60.000000              5.000000   \n",
       "\n",
       "       length_of_service  KPIs_met >80%   awards_won?  avg_training_score  \\\n",
       "count       54808.000000   54808.000000  54808.000000        54808.000000   \n",
       "mean            5.865512       0.351974      0.023172           63.386750   \n",
       "std             4.265094       0.477590      0.150450           13.371559   \n",
       "min             1.000000       0.000000      0.000000           39.000000   \n",
       "25%             3.000000       0.000000      0.000000           51.000000   \n",
       "50%             5.000000       0.000000      0.000000           60.000000   \n",
       "75%             7.000000       1.000000      0.000000           76.000000   \n",
       "max            37.000000       1.000000      1.000000           99.000000   \n",
       "\n",
       "        is_promoted  \n",
       "count  54808.000000  \n",
       "mean       0.085170  \n",
       "std        0.279137  \n",
       "min        0.000000  \n",
       "25%        0.000000  \n",
       "50%        0.000000  \n",
       "75%        0.000000  \n",
       "max        1.000000  "
      ]
     },
     "execution_count": 8,
     "metadata": {},
     "output_type": "execute_result"
    }
   ],
   "source": [
    "train_data.describe()"
   ]
  },
  {
   "cell_type": "code",
   "execution_count": 9,
   "metadata": {
    "colab": {
     "base_uri": "https://localhost:8080/",
     "height": 206
    },
    "colab_type": "code",
    "id": "696_-BeVNySs",
    "outputId": "67e2353c-8393-4762-c3c9-5abf263f1b5d",
    "scrolled": true
   },
   "outputs": [
    {
     "data": {
      "text/html": [
       "<div>\n",
       "<style scoped>\n",
       "    .dataframe tbody tr th:only-of-type {\n",
       "        vertical-align: middle;\n",
       "    }\n",
       "\n",
       "    .dataframe tbody tr th {\n",
       "        vertical-align: top;\n",
       "    }\n",
       "\n",
       "    .dataframe thead th {\n",
       "        text-align: right;\n",
       "    }\n",
       "</style>\n",
       "<table border=\"1\" class=\"dataframe\">\n",
       "  <thead>\n",
       "    <tr style=\"text-align: right;\">\n",
       "      <th></th>\n",
       "      <th>employee_id</th>\n",
       "      <th>department</th>\n",
       "      <th>region</th>\n",
       "      <th>education</th>\n",
       "      <th>gender</th>\n",
       "      <th>recruitment_channel</th>\n",
       "      <th>no_of_trainings</th>\n",
       "      <th>age</th>\n",
       "      <th>previous_year_rating</th>\n",
       "      <th>length_of_service</th>\n",
       "      <th>KPIs_met &gt;80%</th>\n",
       "      <th>awards_won?</th>\n",
       "      <th>avg_training_score</th>\n",
       "      <th>is_promoted</th>\n",
       "    </tr>\n",
       "  </thead>\n",
       "  <tbody>\n",
       "    <tr>\n",
       "      <th>0</th>\n",
       "      <td>65438</td>\n",
       "      <td>Sales &amp; Marketing</td>\n",
       "      <td>region_7</td>\n",
       "      <td>Master's &amp; above</td>\n",
       "      <td>f</td>\n",
       "      <td>sourcing</td>\n",
       "      <td>1</td>\n",
       "      <td>35</td>\n",
       "      <td>5.0</td>\n",
       "      <td>8</td>\n",
       "      <td>1</td>\n",
       "      <td>0</td>\n",
       "      <td>49</td>\n",
       "      <td>0</td>\n",
       "    </tr>\n",
       "    <tr>\n",
       "      <th>1</th>\n",
       "      <td>65141</td>\n",
       "      <td>Operations</td>\n",
       "      <td>region_22</td>\n",
       "      <td>Bachelor's</td>\n",
       "      <td>m</td>\n",
       "      <td>other</td>\n",
       "      <td>1</td>\n",
       "      <td>30</td>\n",
       "      <td>5.0</td>\n",
       "      <td>4</td>\n",
       "      <td>0</td>\n",
       "      <td>0</td>\n",
       "      <td>60</td>\n",
       "      <td>0</td>\n",
       "    </tr>\n",
       "    <tr>\n",
       "      <th>2</th>\n",
       "      <td>7513</td>\n",
       "      <td>Sales &amp; Marketing</td>\n",
       "      <td>region_19</td>\n",
       "      <td>Bachelor's</td>\n",
       "      <td>m</td>\n",
       "      <td>sourcing</td>\n",
       "      <td>1</td>\n",
       "      <td>34</td>\n",
       "      <td>3.0</td>\n",
       "      <td>7</td>\n",
       "      <td>0</td>\n",
       "      <td>0</td>\n",
       "      <td>50</td>\n",
       "      <td>0</td>\n",
       "    </tr>\n",
       "  </tbody>\n",
       "</table>\n",
       "</div>"
      ],
      "text/plain": [
       "   employee_id         department     region         education gender  \\\n",
       "0        65438  Sales & Marketing   region_7  Master's & above      f   \n",
       "1        65141         Operations  region_22        Bachelor's      m   \n",
       "2         7513  Sales & Marketing  region_19        Bachelor's      m   \n",
       "\n",
       "  recruitment_channel  no_of_trainings  age  previous_year_rating  \\\n",
       "0            sourcing                1   35                   5.0   \n",
       "1               other                1   30                   5.0   \n",
       "2            sourcing                1   34                   3.0   \n",
       "\n",
       "   length_of_service  KPIs_met >80%  awards_won?  avg_training_score  \\\n",
       "0                  8              1            0                  49   \n",
       "1                  4              0            0                  60   \n",
       "2                  7              0            0                  50   \n",
       "\n",
       "   is_promoted  \n",
       "0            0  \n",
       "1            0  \n",
       "2            0  "
      ]
     },
     "execution_count": 9,
     "metadata": {},
     "output_type": "execute_result"
    }
   ],
   "source": [
    "train_data.head(3)"
   ]
  },
  {
   "cell_type": "markdown",
   "metadata": {
    "colab_type": "text",
    "id": "FPA0avGWNySu"
   },
   "source": [
    "previous_year_rating emp who have 5 rating mark them as os,4-ec, 3 - hvc, 2 - meets req, 1 - need improvement"
   ]
  },
  {
   "cell_type": "markdown",
   "metadata": {
    "colab_type": "text",
    "id": "EDBw10T1ZJF8"
   },
   "source": [
    "**Feature Engineering**"
   ]
  },
  {
   "cell_type": "code",
   "execution_count": 10,
   "metadata": {
    "colab": {},
    "colab_type": "code",
    "id": "YAoTYIoHNySv",
    "scrolled": false
   },
   "outputs": [],
   "source": [
    "from datetime import date, datetime\n",
    "\n",
    "current_year = date.today().year\n",
    "\n",
    "train_data['birth_year'] =  abs(train_data['age'].subtract(current_year))"
   ]
  },
  {
   "cell_type": "markdown",
   "metadata": {
    "colab_type": "text",
    "id": "ovNpHgdWNyS0"
   },
   "source": [
    "Getting year of birth from age"
   ]
  },
  {
   "cell_type": "code",
   "execution_count": 11,
   "metadata": {
    "colab": {},
    "colab_type": "code",
    "id": "r73rNXxHNyVU"
   },
   "outputs": [],
   "source": [
    "avg_age_reg = train_data.groupby('region').age.mean().to_dict()\n",
    "train_data['avg_age_reg'] = train_data.region.apply(lambda x: avg_age_reg[x])"
   ]
  },
  {
   "cell_type": "code",
   "execution_count": 12,
   "metadata": {
    "colab": {},
    "colab_type": "code",
    "id": "fN-vYsIpNyVX"
   },
   "outputs": [],
   "source": [
    "avg_age_gen = train_data.groupby('gender').age.mean().to_dict()\n",
    "train_data['avg_age_gen'] = train_data.gender.apply(lambda x: avg_age_gen[x])"
   ]
  },
  {
   "cell_type": "markdown",
   "metadata": {
    "colab_type": "text",
    "id": "s2Lsxgo-NyS1"
   },
   "source": [
    "<h3>Bi-variate Analysis</h3>"
   ]
  },
  {
   "cell_type": "code",
   "execution_count": 13,
   "metadata": {
    "colab": {
     "base_uri": "https://localhost:8080/",
     "height": 280
    },
    "colab_type": "code",
    "id": "OEC_-GFvNyS2",
    "outputId": "6aa71afa-4eaf-4bca-fddb-9493387ac7b2"
   },
   "outputs": [
    {
     "data": {
      "image/png": "[encoded data removed]",
      "text/plain": [
       "<Figure size 432x288 with 1 Axes>"
      ]
     },
     "metadata": {
      "needs_background": "light"
     },
     "output_type": "display_data"
    }
   ],
   "source": [
    "import seaborn as sb\n",
    "\n",
    "ax = sb.boxplot(x= 'is_promoted', y='previous_year_rating',data=train_data, whis=np.inf)"
   ]
  },
  {
   "cell_type": "markdown",
   "metadata": {
    "colab_type": "text",
    "id": "F3n8GUCENyS4"
   },
   "source": [
    "**Employees who have got high rating are most likey to get promoted**"
   ]
  },
  {
   "cell_type": "code",
   "execution_count": 14,
   "metadata": {
    "colab": {
     "base_uri": "https://localhost:8080/",
     "height": 297
    },
    "colab_type": "code",
    "id": "qVJmEEZtNyS5",
    "outputId": "12c64db2-48b9-499f-82cf-d667d8c57c1a",
    "scrolled": true
   },
   "outputs": [
    {
     "data": {
      "text/plain": [
       "<matplotlib.axes._subplots.AxesSubplot at 0x1de8c9f98d0>"
      ]
     },
     "execution_count": 14,
     "metadata": {},
     "output_type": "execute_result"
    },
    {
     "data": {
      "image/png": "[encoded data removed]",
      "text/plain": [
       "<Figure size 432x288 with 1 Axes>"
      ]
     },
     "metadata": {
      "needs_background": "light"
     },
     "output_type": "display_data"
    }
   ],
   "source": [
    "sb.boxplot(x= 'is_promoted', y='age',data=train_data)"
   ]
  },
  {
   "cell_type": "markdown",
   "metadata": {
    "colab_type": "text",
    "id": "YXAvU6pNNyS7"
   },
   "source": [
    "**From the figure, there are outliers. But, usually a company have senior employees. So, we should not worry about this.**"
   ]
  },
  {
   "cell_type": "code",
   "execution_count": 15,
   "metadata": {
    "colab": {
     "base_uri": "https://localhost:8080/",
     "height": 386
    },
    "colab_type": "code",
    "id": "6DengNwyNyS8",
    "outputId": "85dd045f-9c34-4982-d66e-a1f50a6b2bce"
   },
   "outputs": [
    {
     "data": {
      "text/plain": [
       "<seaborn.axisgrid.FacetGrid at 0x1de8c2ac6a0>"
      ]
     },
     "execution_count": 15,
     "metadata": {},
     "output_type": "execute_result"
    },
    {
     "data": {
      "image/png": "[encoded data removed]",
      "text/plain": [
       "<Figure size 360x360 with 1 Axes>"
      ]
     },
     "metadata": {
      "needs_background": "light"
     },
     "output_type": "display_data"
    }
   ],
   "source": [
    "sb.catplot(x= 'is_promoted', y='birth_year', data=train_data, kind=\"violin\")"
   ]
  },
  {
   "cell_type": "code",
   "execution_count": 16,
   "metadata": {
    "colab": {
     "base_uri": "https://localhost:8080/",
     "height": 383
    },
    "colab_type": "code",
    "id": "l0ruhbDrNyTB",
    "outputId": "7b6127a3-9df6-40c4-9032-c78bc6e27b7b"
   },
   "outputs": [
    {
     "data": {
      "text/plain": [
       "<matplotlib.axes._subplots.AxesSubplot at 0x1de8caef438>"
      ]
     },
     "execution_count": 16,
     "metadata": {},
     "output_type": "execute_result"
    },
    {
     "data": {
      "image/png": "[encoded data removed]",
      "text/plain": [
       "<Figure size 1080x360 with 1 Axes>"
      ]
     },
     "metadata": {
      "needs_background": "light"
     },
     "output_type": "display_data"
    }
   ],
   "source": [
    "pd.crosstab(train_data.birth_year, train_data.is_promoted).plot(kind='bar', figsize = (15,5), \\\n",
    "                                                         label = 'Age Vs Promotion', title = 'Age Vs Promotion')"
   ]
  },
  {
   "cell_type": "markdown",
   "metadata": {
    "colab_type": "text",
    "id": "11cyv-K9NyTH"
   },
   "source": [
    "Left Skewed distribution"
   ]
  },
  {
   "cell_type": "markdown",
   "metadata": {
    "colab_type": "text",
    "id": "8HX_hFo_NyTI"
   },
   "source": [
    "**Most number of employees are born in the year 1989**"
   ]
  },
  {
   "cell_type": "code",
   "execution_count": 17,
   "metadata": {
    "colab": {
     "base_uri": "https://localhost:8080/",
     "height": 369
    },
    "colab_type": "code",
    "id": "PitHZtJRNyTK",
    "outputId": "9a97b35e-eee6-4342-8312-bca88f40edba"
   },
   "outputs": [
    {
     "data": {
      "text/plain": [
       "<matplotlib.axes._subplots.AxesSubplot at 0x1de8cb55940>"
      ]
     },
     "execution_count": 17,
     "metadata": {},
     "output_type": "execute_result"
    },
    {
     "data": {
      "image/png": "[encoded data removed]",
      "text/plain": [
       "<Figure size 1080x360 with 1 Axes>"
      ]
     },
     "metadata": {
      "needs_background": "light"
     },
     "output_type": "display_data"
    }
   ],
   "source": [
    "pd.crosstab(train_data.age, train_data.is_promoted).plot(kind='bar', figsize = (15,5), \\\n",
    "                                                         label = 'Age Vs Promotion', title = 'Age Vs Promotion')"
   ]
  },
  {
   "cell_type": "markdown",
   "metadata": {
    "colab_type": "text",
    "id": "fzmJdPqQNyTP"
   },
   "source": [
    "Right skewed distribution"
   ]
  },
  {
   "cell_type": "markdown",
   "metadata": {
    "colab_type": "text",
    "id": "H7Dr1l-oNyTS"
   },
   "source": [
    "**As we can see above, most employees who get promoted are between age 27 to 36.**"
   ]
  },
  {
   "cell_type": "code",
   "execution_count": 18,
   "metadata": {
    "colab": {
     "base_uri": "https://localhost:8080/",
     "height": 423
    },
    "colab_type": "code",
    "id": "oFXNZkOyNyTV",
    "outputId": "b20d3779-32e7-4207-a141-b122ce6f6e6c"
   },
   "outputs": [
    {
     "data": {
      "text/plain": [
       "array([<matplotlib.axes._subplots.AxesSubplot object at 0x000001DE8D537128>,\n",
       "       <matplotlib.axes._subplots.AxesSubplot object at 0x000001DE8D85C3C8>],\n",
       "      dtype=object)"
      ]
     },
     "execution_count": 18,
     "metadata": {},
     "output_type": "execute_result"
    },
    {
     "data": {
      "image/png": "[encoded data removed]",
      "text/plain": [
       "<Figure size 1080x360 with 2 Axes>"
      ]
     },
     "metadata": {
      "needs_background": "light"
     },
     "output_type": "display_data"
    }
   ],
   "source": [
    "pd.crosstab(train_data.length_of_service, train_data.is_promoted).plot(kind='bar', subplots=True, figsize = (15,5), \\\n",
    "                                                                      title = 'Length of service Vs Promotion')"
   ]
  },
  {
   "cell_type": "markdown",
   "metadata": {
    "colab_type": "text",
    "id": "RyhPlmLUNyTd"
   },
   "source": [
    "**Employees having experience 2-7 have promotion rates very high**"
   ]
  },
  {
   "cell_type": "code",
   "execution_count": 19,
   "metadata": {
    "colab": {
     "base_uri": "https://localhost:8080/",
     "height": 419
    },
    "colab_type": "code",
    "id": "YLWYIdbENyTe",
    "outputId": "0ca611c7-0c54-4c4f-e90f-5b5364d22a0b"
   },
   "outputs": [
    {
     "data": {
      "text/plain": [
       "array([<matplotlib.axes._subplots.AxesSubplot object at 0x000001DE8D501C50>,\n",
       "       <matplotlib.axes._subplots.AxesSubplot object at 0x000001DE8DBA9E80>],\n",
       "      dtype=object)"
      ]
     },
     "execution_count": 19,
     "metadata": {},
     "output_type": "execute_result"
    },
    {
     "data": {
      "image/png": "[encoded data removed]",
      "text/plain": [
       "<Figure size 1080x360 with 2 Axes>"
      ]
     },
     "metadata": {
      "needs_background": "light"
     },
     "output_type": "display_data"
    }
   ],
   "source": [
    "pd.crosstab(train_data.gender, train_data.is_promoted).plot(kind='bar', subplots=True, figsize = (15,5), \\\n",
    "                                                                      title = 'Length of service Vs Promotion')"
   ]
  },
  {
   "cell_type": "markdown",
   "metadata": {
    "colab_type": "text",
    "id": "bZjhnJxuNyTj"
   },
   "source": [
    "**Here, we can clearly say that male employees are promoted more.**"
   ]
  },
  {
   "cell_type": "code",
   "execution_count": 20,
   "metadata": {
    "colab": {
     "base_uri": "https://localhost:8080/",
     "height": 922
    },
    "colab_type": "code",
    "id": "0V9gDkUTNyTp",
    "outputId": "dd54080d-8b02-4f40-ae90-57ca788576af"
   },
   "outputs": [
    {
     "data": {
      "text/plain": [
       "<seaborn.axisgrid.PairGrid at 0x1de8da454a8>"
      ]
     },
     "execution_count": 20,
     "metadata": {},
     "output_type": "execute_result"
    },
    {
     "data": {
      "image/png": "[encoded data removed]",
      "text/plain": [
       "<Figure size 969.5x900 with 30 Axes>"
      ]
     },
     "metadata": {
      "needs_background": "light"
     },
     "output_type": "display_data"
    }
   ],
   "source": [
    "df = train_data[['age', 'length_of_service', 'previous_year_rating', 'KPIs_met >80%', 'is_promoted']]\n",
    "sb.pairplot(df, hue=\"is_promoted\")"
   ]
  },
  {
   "cell_type": "code",
   "execution_count": 21,
   "metadata": {
    "colab": {
     "base_uri": "https://localhost:8080/",
     "height": 278
    },
    "colab_type": "code",
    "id": "ptfsMk2lcrOr",
    "outputId": "e97ef985-717d-4d08-f30e-8022aa1e3647"
   },
   "outputs": [
    {
     "data": {
      "text/html": [
       "<style  type=\"text/css\" >\n",
       "    #T_67e5f65e_27ad_11ea_b7c5_8c16450c81a0row0_col0 {\n",
       "            background-color:  #023858;\n",
       "            color:  #f1f1f1;\n",
       "        }    #T_67e5f65e_27ad_11ea_b7c5_8c16450c81a0row0_col1 {\n",
       "            background-color:  #f4eef6;\n",
       "            color:  #000000;\n",
       "        }    #T_67e5f65e_27ad_11ea_b7c5_8c16450c81a0row0_col2 {\n",
       "            background-color:  #73a9cf;\n",
       "            color:  #000000;\n",
       "        }    #T_67e5f65e_27ad_11ea_b7c5_8c16450c81a0row0_col3 {\n",
       "            background-color:  #f5eff6;\n",
       "            color:  #000000;\n",
       "        }    #T_67e5f65e_27ad_11ea_b7c5_8c16450c81a0row0_col4 {\n",
       "            background-color:  #9ebad9;\n",
       "            color:  #000000;\n",
       "        }    #T_67e5f65e_27ad_11ea_b7c5_8c16450c81a0row0_col5 {\n",
       "            background-color:  #f5eef6;\n",
       "            color:  #000000;\n",
       "        }    #T_67e5f65e_27ad_11ea_b7c5_8c16450c81a0row0_col6 {\n",
       "            background-color:  #f8f1f8;\n",
       "            color:  #000000;\n",
       "        }    #T_67e5f65e_27ad_11ea_b7c5_8c16450c81a0row0_col7 {\n",
       "            background-color:  #f8f1f8;\n",
       "            color:  #000000;\n",
       "        }    #T_67e5f65e_27ad_11ea_b7c5_8c16450c81a0row0_col8 {\n",
       "            background-color:  #fbf4f9;\n",
       "            color:  #000000;\n",
       "        }    #T_67e5f65e_27ad_11ea_b7c5_8c16450c81a0row0_col9 {\n",
       "            background-color:  #75a9cf;\n",
       "            color:  #000000;\n",
       "        }    #T_67e5f65e_27ad_11ea_b7c5_8c16450c81a0row0_col10 {\n",
       "            background-color:  #ced0e6;\n",
       "            color:  #000000;\n",
       "        }    #T_67e5f65e_27ad_11ea_b7c5_8c16450c81a0row0_col11 {\n",
       "            background-color:  #f3edf5;\n",
       "            color:  #000000;\n",
       "        }    #T_67e5f65e_27ad_11ea_b7c5_8c16450c81a0row1_col0 {\n",
       "            background-color:  #fff7fb;\n",
       "            color:  #000000;\n",
       "        }    #T_67e5f65e_27ad_11ea_b7c5_8c16450c81a0row1_col1 {\n",
       "            background-color:  #023858;\n",
       "            color:  #f1f1f1;\n",
       "        }    #T_67e5f65e_27ad_11ea_b7c5_8c16450c81a0row1_col2 {\n",
       "            background-color:  #84b0d3;\n",
       "            color:  #000000;\n",
       "        }    #T_67e5f65e_27ad_11ea_b7c5_8c16450c81a0row1_col3 {\n",
       "            background-color:  #fff7fb;\n",
       "            color:  #000000;\n",
       "        }    #T_67e5f65e_27ad_11ea_b7c5_8c16450c81a0row1_col4 {\n",
       "            background-color:  #abbfdc;\n",
       "            color:  #000000;\n",
       "        }    #T_67e5f65e_27ad_11ea_b7c5_8c16450c81a0row1_col5 {\n",
       "            background-color:  #fbf3f9;\n",
       "            color:  #000000;\n",
       "        }    #T_67e5f65e_27ad_11ea_b7c5_8c16450c81a0row1_col6 {\n",
       "            background-color:  #fbf3f9;\n",
       "            color:  #000000;\n",
       "        }    #T_67e5f65e_27ad_11ea_b7c5_8c16450c81a0row1_col7 {\n",
       "            background-color:  #f2ecf5;\n",
       "            color:  #000000;\n",
       "        }    #T_67e5f65e_27ad_11ea_b7c5_8c16450c81a0row1_col8 {\n",
       "            background-color:  #fff7fb;\n",
       "            color:  #000000;\n",
       "        }    #T_67e5f65e_27ad_11ea_b7c5_8c16450c81a0row1_col9 {\n",
       "            background-color:  #60a1ca;\n",
       "            color:  #000000;\n",
       "        }    #T_67e5f65e_27ad_11ea_b7c5_8c16450c81a0row1_col10 {\n",
       "            background-color:  #c9cee4;\n",
       "            color:  #000000;\n",
       "        }    #T_67e5f65e_27ad_11ea_b7c5_8c16450c81a0row1_col11 {\n",
       "            background-color:  #fff7fb;\n",
       "            color:  #000000;\n",
       "        }    #T_67e5f65e_27ad_11ea_b7c5_8c16450c81a0row2_col0 {\n",
       "            background-color:  #fef6fb;\n",
       "            color:  #000000;\n",
       "        }    #T_67e5f65e_27ad_11ea_b7c5_8c16450c81a0row2_col1 {\n",
       "            background-color:  #fff7fb;\n",
       "            color:  #000000;\n",
       "        }    #T_67e5f65e_27ad_11ea_b7c5_8c16450c81a0row2_col2 {\n",
       "            background-color:  #023858;\n",
       "            color:  #f1f1f1;\n",
       "        }    #T_67e5f65e_27ad_11ea_b7c5_8c16450c81a0row2_col3 {\n",
       "            background-color:  #f5eff6;\n",
       "            color:  #000000;\n",
       "        }    #T_67e5f65e_27ad_11ea_b7c5_8c16450c81a0row2_col4 {\n",
       "            background-color:  #0568a3;\n",
       "            color:  #f1f1f1;\n",
       "        }    #T_67e5f65e_27ad_11ea_b7c5_8c16450c81a0row2_col5 {\n",
       "            background-color:  #f8f1f8;\n",
       "            color:  #000000;\n",
       "        }    #T_67e5f65e_27ad_11ea_b7c5_8c16450c81a0row2_col6 {\n",
       "            background-color:  #fbf3f9;\n",
       "            color:  #000000;\n",
       "        }    #T_67e5f65e_27ad_11ea_b7c5_8c16450c81a0row2_col7 {\n",
       "            background-color:  #fff7fb;\n",
       "            color:  #000000;\n",
       "        }    #T_67e5f65e_27ad_11ea_b7c5_8c16450c81a0row2_col8 {\n",
       "            background-color:  #fef6fb;\n",
       "            color:  #000000;\n",
       "        }    #T_67e5f65e_27ad_11ea_b7c5_8c16450c81a0row2_col9 {\n",
       "            background-color:  #fff7fb;\n",
       "            color:  #000000;\n",
       "        }    #T_67e5f65e_27ad_11ea_b7c5_8c16450c81a0row2_col10 {\n",
       "            background-color:  #6fa7ce;\n",
       "            color:  #000000;\n",
       "        }    #T_67e5f65e_27ad_11ea_b7c5_8c16450c81a0row2_col11 {\n",
       "            background-color:  #f1ebf5;\n",
       "            color:  #000000;\n",
       "        }    #T_67e5f65e_27ad_11ea_b7c5_8c16450c81a0row3_col0 {\n",
       "            background-color:  #fef6fa;\n",
       "            color:  #000000;\n",
       "        }    #T_67e5f65e_27ad_11ea_b7c5_8c16450c81a0row3_col1 {\n",
       "            background-color:  #fcf4fa;\n",
       "            color:  #000000;\n",
       "        }    #T_67e5f65e_27ad_11ea_b7c5_8c16450c81a0row3_col2 {\n",
       "            background-color:  #73a9cf;\n",
       "            color:  #000000;\n",
       "        }    #T_67e5f65e_27ad_11ea_b7c5_8c16450c81a0row3_col3 {\n",
       "            background-color:  #023858;\n",
       "            color:  #f1f1f1;\n",
       "        }    #T_67e5f65e_27ad_11ea_b7c5_8c16450c81a0row3_col4 {\n",
       "            background-color:  #9ebad9;\n",
       "            color:  #000000;\n",
       "        }    #T_67e5f65e_27ad_11ea_b7c5_8c16450c81a0row3_col5 {\n",
       "            background-color:  #9ebad9;\n",
       "            color:  #000000;\n",
       "        }    #T_67e5f65e_27ad_11ea_b7c5_8c16450c81a0row3_col6 {\n",
       "            background-color:  #f5eff6;\n",
       "            color:  #000000;\n",
       "        }    #T_67e5f65e_27ad_11ea_b7c5_8c16450c81a0row3_col7 {\n",
       "            background-color:  #ede8f3;\n",
       "            color:  #000000;\n",
       "        }    #T_67e5f65e_27ad_11ea_b7c5_8c16450c81a0row3_col8 {\n",
       "            background-color:  #e0dded;\n",
       "            color:  #000000;\n",
       "        }    #T_67e5f65e_27ad_11ea_b7c5_8c16450c81a0row3_col9 {\n",
       "            background-color:  #75a9cf;\n",
       "            color:  #000000;\n",
       "        }    #T_67e5f65e_27ad_11ea_b7c5_8c16450c81a0row3_col10 {\n",
       "            background-color:  #c9cee4;\n",
       "            color:  #000000;\n",
       "        }    #T_67e5f65e_27ad_11ea_b7c5_8c16450c81a0row3_col11 {\n",
       "            background-color:  #f0eaf4;\n",
       "            color:  #000000;\n",
       "        }    #T_67e5f65e_27ad_11ea_b7c5_8c16450c81a0row4_col0 {\n",
       "            background-color:  #fef6fb;\n",
       "            color:  #000000;\n",
       "        }    #T_67e5f65e_27ad_11ea_b7c5_8c16450c81a0row4_col1 {\n",
       "            background-color:  #fbf4f9;\n",
       "            color:  #000000;\n",
       "        }    #T_67e5f65e_27ad_11ea_b7c5_8c16450c81a0row4_col2 {\n",
       "            background-color:  #046299;\n",
       "            color:  #f1f1f1;\n",
       "        }    #T_67e5f65e_27ad_11ea_b7c5_8c16450c81a0row4_col3 {\n",
       "            background-color:  #f6eff7;\n",
       "            color:  #000000;\n",
       "        }    #T_67e5f65e_27ad_11ea_b7c5_8c16450c81a0row4_col4 {\n",
       "            background-color:  #023858;\n",
       "            color:  #f1f1f1;\n",
       "        }    #T_67e5f65e_27ad_11ea_b7c5_8c16450c81a0row4_col5 {\n",
       "            background-color:  #fff7fb;\n",
       "            color:  #000000;\n",
       "        }    #T_67e5f65e_27ad_11ea_b7c5_8c16450c81a0row4_col6 {\n",
       "            background-color:  #fff7fb;\n",
       "            color:  #000000;\n",
       "        }    #T_67e5f65e_27ad_11ea_b7c5_8c16450c81a0row4_col7 {\n",
       "            background-color:  #fef6fa;\n",
       "            color:  #000000;\n",
       "        }    #T_67e5f65e_27ad_11ea_b7c5_8c16450c81a0row4_col8 {\n",
       "            background-color:  #fdf5fa;\n",
       "            color:  #000000;\n",
       "        }    #T_67e5f65e_27ad_11ea_b7c5_8c16450c81a0row4_col9 {\n",
       "            background-color:  #e2dfee;\n",
       "            color:  #000000;\n",
       "        }    #T_67e5f65e_27ad_11ea_b7c5_8c16450c81a0row4_col10 {\n",
       "            background-color:  #91b5d6;\n",
       "            color:  #000000;\n",
       "        }    #T_67e5f65e_27ad_11ea_b7c5_8c16450c81a0row4_col11 {\n",
       "            background-color:  #f1ebf4;\n",
       "            color:  #000000;\n",
       "        }    #T_67e5f65e_27ad_11ea_b7c5_8c16450c81a0row5_col0 {\n",
       "            background-color:  #fff7fb;\n",
       "            color:  #000000;\n",
       "        }    #T_67e5f65e_27ad_11ea_b7c5_8c16450c81a0row5_col1 {\n",
       "            background-color:  #faf2f8;\n",
       "            color:  #000000;\n",
       "        }    #T_67e5f65e_27ad_11ea_b7c5_8c16450c81a0row5_col2 {\n",
       "            background-color:  #79abd0;\n",
       "            color:  #000000;\n",
       "        }    #T_67e5f65e_27ad_11ea_b7c5_8c16450c81a0row5_col3 {\n",
       "            background-color:  #a1bbda;\n",
       "            color:  #000000;\n",
       "        }    #T_67e5f65e_27ad_11ea_b7c5_8c16450c81a0row5_col4 {\n",
       "            background-color:  #afc1dd;\n",
       "            color:  #000000;\n",
       "        }    #T_67e5f65e_27ad_11ea_b7c5_8c16450c81a0row5_col5 {\n",
       "            background-color:  #023858;\n",
       "            color:  #f1f1f1;\n",
       "        }    #T_67e5f65e_27ad_11ea_b7c5_8c16450c81a0row5_col6 {\n",
       "            background-color:  #ebe6f2;\n",
       "            color:  #000000;\n",
       "        }    #T_67e5f65e_27ad_11ea_b7c5_8c16450c81a0row5_col7 {\n",
       "            background-color:  #ede8f3;\n",
       "            color:  #000000;\n",
       "        }    #T_67e5f65e_27ad_11ea_b7c5_8c16450c81a0row5_col8 {\n",
       "            background-color:  #d2d3e7;\n",
       "            color:  #000000;\n",
       "        }    #T_67e5f65e_27ad_11ea_b7c5_8c16450c81a0row5_col9 {\n",
       "            background-color:  #6da6cd;\n",
       "            color:  #000000;\n",
       "        }    #T_67e5f65e_27ad_11ea_b7c5_8c16450c81a0row5_col10 {\n",
       "            background-color:  #cdd0e5;\n",
       "            color:  #000000;\n",
       "        }    #T_67e5f65e_27ad_11ea_b7c5_8c16450c81a0row5_col11 {\n",
       "            background-color:  #eee9f3;\n",
       "            color:  #000000;\n",
       "        }    #T_67e5f65e_27ad_11ea_b7c5_8c16450c81a0row6_col0 {\n",
       "            background-color:  #fdf5fa;\n",
       "            color:  #000000;\n",
       "        }    #T_67e5f65e_27ad_11ea_b7c5_8c16450c81a0row6_col1 {\n",
       "            background-color:  #f4eef6;\n",
       "            color:  #000000;\n",
       "        }    #T_67e5f65e_27ad_11ea_b7c5_8c16450c81a0row6_col2 {\n",
       "            background-color:  #76aad0;\n",
       "            color:  #000000;\n",
       "        }    #T_67e5f65e_27ad_11ea_b7c5_8c16450c81a0row6_col3 {\n",
       "            background-color:  #f2ecf5;\n",
       "            color:  #000000;\n",
       "        }    #T_67e5f65e_27ad_11ea_b7c5_8c16450c81a0row6_col4 {\n",
       "            background-color:  #a7bddb;\n",
       "            color:  #000000;\n",
       "        }    #T_67e5f65e_27ad_11ea_b7c5_8c16450c81a0row6_col5 {\n",
       "            background-color:  #e4e1ef;\n",
       "            color:  #000000;\n",
       "        }    #T_67e5f65e_27ad_11ea_b7c5_8c16450c81a0row6_col6 {\n",
       "            background-color:  #023858;\n",
       "            color:  #f1f1f1;\n",
       "        }    #T_67e5f65e_27ad_11ea_b7c5_8c16450c81a0row6_col7 {\n",
       "            background-color:  #eee8f3;\n",
       "            color:  #000000;\n",
       "        }    #T_67e5f65e_27ad_11ea_b7c5_8c16450c81a0row6_col8 {\n",
       "            background-color:  #d8d7e9;\n",
       "            color:  #000000;\n",
       "        }    #T_67e5f65e_27ad_11ea_b7c5_8c16450c81a0row6_col9 {\n",
       "            background-color:  #71a8ce;\n",
       "            color:  #000000;\n",
       "        }    #T_67e5f65e_27ad_11ea_b7c5_8c16450c81a0row6_col10 {\n",
       "            background-color:  #ced0e6;\n",
       "            color:  #000000;\n",
       "        }    #T_67e5f65e_27ad_11ea_b7c5_8c16450c81a0row6_col11 {\n",
       "            background-color:  #f4edf6;\n",
       "            color:  #000000;\n",
       "        }    #T_67e5f65e_27ad_11ea_b7c5_8c16450c81a0row7_col0 {\n",
       "            background-color:  #fef6fb;\n",
       "            color:  #000000;\n",
       "        }    #T_67e5f65e_27ad_11ea_b7c5_8c16450c81a0row7_col1 {\n",
       "            background-color:  #eee8f3;\n",
       "            color:  #000000;\n",
       "        }    #T_67e5f65e_27ad_11ea_b7c5_8c16450c81a0row7_col2 {\n",
       "            background-color:  #7eadd1;\n",
       "            color:  #000000;\n",
       "        }    #T_67e5f65e_27ad_11ea_b7c5_8c16450c81a0row7_col3 {\n",
       "            background-color:  #ebe6f2;\n",
       "            color:  #000000;\n",
       "        }    #T_67e5f65e_27ad_11ea_b7c5_8c16450c81a0row7_col4 {\n",
       "            background-color:  #a7bddb;\n",
       "            color:  #000000;\n",
       "        }    #T_67e5f65e_27ad_11ea_b7c5_8c16450c81a0row7_col5 {\n",
       "            background-color:  #e7e3f0;\n",
       "            color:  #000000;\n",
       "        }    #T_67e5f65e_27ad_11ea_b7c5_8c16450c81a0row7_col6 {\n",
       "            background-color:  #efe9f3;\n",
       "            color:  #000000;\n",
       "        }    #T_67e5f65e_27ad_11ea_b7c5_8c16450c81a0row7_col7 {\n",
       "            background-color:  #023858;\n",
       "            color:  #f1f1f1;\n",
       "        }    #T_67e5f65e_27ad_11ea_b7c5_8c16450c81a0row7_col8 {\n",
       "            background-color:  #dbdaeb;\n",
       "            color:  #000000;\n",
       "        }    #T_67e5f65e_27ad_11ea_b7c5_8c16450c81a0row7_col9 {\n",
       "            background-color:  #67a4cc;\n",
       "            color:  #000000;\n",
       "        }    #T_67e5f65e_27ad_11ea_b7c5_8c16450c81a0row7_col10 {\n",
       "            background-color:  #d2d2e7;\n",
       "            color:  #000000;\n",
       "        }    #T_67e5f65e_27ad_11ea_b7c5_8c16450c81a0row7_col11 {\n",
       "            background-color:  #f0eaf4;\n",
       "            color:  #000000;\n",
       "        }    #T_67e5f65e_27ad_11ea_b7c5_8c16450c81a0row8_col0 {\n",
       "            background-color:  #fef6fb;\n",
       "            color:  #000000;\n",
       "        }    #T_67e5f65e_27ad_11ea_b7c5_8c16450c81a0row8_col1 {\n",
       "            background-color:  #f7f0f7;\n",
       "            color:  #000000;\n",
       "        }    #T_67e5f65e_27ad_11ea_b7c5_8c16450c81a0row8_col2 {\n",
       "            background-color:  #78abd0;\n",
       "            color:  #000000;\n",
       "        }    #T_67e5f65e_27ad_11ea_b7c5_8c16450c81a0row8_col3 {\n",
       "            background-color:  #d9d8ea;\n",
       "            color:  #000000;\n",
       "        }    #T_67e5f65e_27ad_11ea_b7c5_8c16450c81a0row8_col4 {\n",
       "            background-color:  #a1bbda;\n",
       "            color:  #000000;\n",
       "        }    #T_67e5f65e_27ad_11ea_b7c5_8c16450c81a0row8_col5 {\n",
       "            background-color:  #c6cce3;\n",
       "            color:  #000000;\n",
       "        }    #T_67e5f65e_27ad_11ea_b7c5_8c16450c81a0row8_col6 {\n",
       "            background-color:  #d5d5e8;\n",
       "            color:  #000000;\n",
       "        }    #T_67e5f65e_27ad_11ea_b7c5_8c16450c81a0row8_col7 {\n",
       "            background-color:  #d7d6e9;\n",
       "            color:  #000000;\n",
       "        }    #T_67e5f65e_27ad_11ea_b7c5_8c16450c81a0row8_col8 {\n",
       "            background-color:  #023858;\n",
       "            color:  #f1f1f1;\n",
       "        }    #T_67e5f65e_27ad_11ea_b7c5_8c16450c81a0row8_col9 {\n",
       "            background-color:  #6fa7ce;\n",
       "            color:  #000000;\n",
       "        }    #T_67e5f65e_27ad_11ea_b7c5_8c16450c81a0row8_col10 {\n",
       "            background-color:  #cccfe5;\n",
       "            color:  #000000;\n",
       "        }    #T_67e5f65e_27ad_11ea_b7c5_8c16450c81a0row8_col11 {\n",
       "            background-color:  #f2ecf5;\n",
       "            color:  #000000;\n",
       "        }    #T_67e5f65e_27ad_11ea_b7c5_8c16450c81a0row9_col0 {\n",
       "            background-color:  #fef6fb;\n",
       "            color:  #000000;\n",
       "        }    #T_67e5f65e_27ad_11ea_b7c5_8c16450c81a0row9_col1 {\n",
       "            background-color:  #e6e2ef;\n",
       "            color:  #000000;\n",
       "        }    #T_67e5f65e_27ad_11ea_b7c5_8c16450c81a0row9_col2 {\n",
       "            background-color:  #fff7fb;\n",
       "            color:  #000000;\n",
       "        }    #T_67e5f65e_27ad_11ea_b7c5_8c16450c81a0row9_col3 {\n",
       "            background-color:  #f7f0f7;\n",
       "            color:  #000000;\n",
       "        }    #T_67e5f65e_27ad_11ea_b7c5_8c16450c81a0row9_col4 {\n",
       "            background-color:  #fff7fb;\n",
       "            color:  #000000;\n",
       "        }    #T_67e5f65e_27ad_11ea_b7c5_8c16450c81a0row9_col5 {\n",
       "            background-color:  #f1ebf4;\n",
       "            color:  #000000;\n",
       "        }    #T_67e5f65e_27ad_11ea_b7c5_8c16450c81a0row9_col6 {\n",
       "            background-color:  #f8f1f8;\n",
       "            color:  #000000;\n",
       "        }    #T_67e5f65e_27ad_11ea_b7c5_8c16450c81a0row9_col7 {\n",
       "            background-color:  #f1ebf5;\n",
       "            color:  #000000;\n",
       "        }    #T_67e5f65e_27ad_11ea_b7c5_8c16450c81a0row9_col8 {\n",
       "            background-color:  #f9f2f8;\n",
       "            color:  #000000;\n",
       "        }    #T_67e5f65e_27ad_11ea_b7c5_8c16450c81a0row9_col9 {\n",
       "            background-color:  #023858;\n",
       "            color:  #f1f1f1;\n",
       "        }    #T_67e5f65e_27ad_11ea_b7c5_8c16450c81a0row9_col10 {\n",
       "            background-color:  #fff7fb;\n",
       "            color:  #000000;\n",
       "        }    #T_67e5f65e_27ad_11ea_b7c5_8c16450c81a0row9_col11 {\n",
       "            background-color:  #f5eff6;\n",
       "            color:  #000000;\n",
       "        }    #T_67e5f65e_27ad_11ea_b7c5_8c16450c81a0row10_col0 {\n",
       "            background-color:  #fef6fb;\n",
       "            color:  #000000;\n",
       "        }    #T_67e5f65e_27ad_11ea_b7c5_8c16450c81a0row10_col1 {\n",
       "            background-color:  #f1ebf4;\n",
       "            color:  #000000;\n",
       "        }    #T_67e5f65e_27ad_11ea_b7c5_8c16450c81a0row10_col2 {\n",
       "            background-color:  #2484ba;\n",
       "            color:  #000000;\n",
       "        }    #T_67e5f65e_27ad_11ea_b7c5_8c16450c81a0row10_col3 {\n",
       "            background-color:  #f3edf5;\n",
       "            color:  #000000;\n",
       "        }    #T_67e5f65e_27ad_11ea_b7c5_8c16450c81a0row10_col4 {\n",
       "            background-color:  #62a2cb;\n",
       "            color:  #000000;\n",
       "        }    #T_67e5f65e_27ad_11ea_b7c5_8c16450c81a0row10_col5 {\n",
       "            background-color:  #f4edf6;\n",
       "            color:  #000000;\n",
       "        }    #T_67e5f65e_27ad_11ea_b7c5_8c16450c81a0row10_col6 {\n",
       "            background-color:  #faf2f8;\n",
       "            color:  #000000;\n",
       "        }    #T_67e5f65e_27ad_11ea_b7c5_8c16450c81a0row10_col7 {\n",
       "            background-color:  #faf3f9;\n",
       "            color:  #000000;\n",
       "        }    #T_67e5f65e_27ad_11ea_b7c5_8c16450c81a0row10_col8 {\n",
       "            background-color:  #faf3f9;\n",
       "            color:  #000000;\n",
       "        }    #T_67e5f65e_27ad_11ea_b7c5_8c16450c81a0row10_col9 {\n",
       "            background-color:  #b5c4df;\n",
       "            color:  #000000;\n",
       "        }    #T_67e5f65e_27ad_11ea_b7c5_8c16450c81a0row10_col10 {\n",
       "            background-color:  #023858;\n",
       "            color:  #f1f1f1;\n",
       "        }    #T_67e5f65e_27ad_11ea_b7c5_8c16450c81a0row10_col11 {\n",
       "            background-color:  #e0dded;\n",
       "            color:  #000000;\n",
       "        }    #T_67e5f65e_27ad_11ea_b7c5_8c16450c81a0row11_col0 {\n",
       "            background-color:  #fef6fb;\n",
       "            color:  #000000;\n",
       "        }    #T_67e5f65e_27ad_11ea_b7c5_8c16450c81a0row11_col1 {\n",
       "            background-color:  #fff7fb;\n",
       "            color:  #000000;\n",
       "        }    #T_67e5f65e_27ad_11ea_b7c5_8c16450c81a0row11_col2 {\n",
       "            background-color:  #6fa7ce;\n",
       "            color:  #000000;\n",
       "        }    #T_67e5f65e_27ad_11ea_b7c5_8c16450c81a0row11_col3 {\n",
       "            background-color:  #f2ecf5;\n",
       "            color:  #000000;\n",
       "        }    #T_67e5f65e_27ad_11ea_b7c5_8c16450c81a0row11_col4 {\n",
       "            background-color:  #99b8d8;\n",
       "            color:  #000000;\n",
       "        }    #T_67e5f65e_27ad_11ea_b7c5_8c16450c81a0row11_col5 {\n",
       "            background-color:  #efe9f3;\n",
       "            color:  #000000;\n",
       "        }    #T_67e5f65e_27ad_11ea_b7c5_8c16450c81a0row11_col6 {\n",
       "            background-color:  #faf2f8;\n",
       "            color:  #000000;\n",
       "        }    #T_67e5f65e_27ad_11ea_b7c5_8c16450c81a0row11_col7 {\n",
       "            background-color:  #f5eef6;\n",
       "            color:  #000000;\n",
       "        }    #T_67e5f65e_27ad_11ea_b7c5_8c16450c81a0row11_col8 {\n",
       "            background-color:  #faf3f9;\n",
       "            color:  #000000;\n",
       "        }    #T_67e5f65e_27ad_11ea_b7c5_8c16450c81a0row11_col9 {\n",
       "            background-color:  #78abd0;\n",
       "            color:  #000000;\n",
       "        }    #T_67e5f65e_27ad_11ea_b7c5_8c16450c81a0row11_col10 {\n",
       "            background-color:  #b3c3de;\n",
       "            color:  #000000;\n",
       "        }    #T_67e5f65e_27ad_11ea_b7c5_8c16450c81a0row11_col11 {\n",
       "            background-color:  #023858;\n",
       "            color:  #f1f1f1;\n",
       "        }</style><table id=\"T_67e5f65e_27ad_11ea_b7c5_8c16450c81a0\" ><thead>    <tr>        <th class=\"blank level0\" ></th>        <th class=\"col_heading level0 col0\" >employee_id</th>        <th class=\"col_heading level0 col1\" >no_of_trainings</th>        <th class=\"col_heading level0 col2\" >age</th>        <th class=\"col_heading level0 col3\" >previous_year_rating</th>        <th class=\"col_heading level0 col4\" >length_of_service</th>        <th class=\"col_heading level0 col5\" >KPIs_met >80%</th>        <th class=\"col_heading level0 col6\" >awards_won?</th>        <th class=\"col_heading level0 col7\" >avg_training_score</th>        <th class=\"col_heading level0 col8\" >is_promoted</th>        <th class=\"col_heading level0 col9\" >birth_year</th>        <th class=\"col_heading level0 col10\" >avg_age_reg</th>        <th class=\"col_heading level0 col11\" >avg_age_gen</th>    </tr></thead><tbody>\n",
       "                <tr>\n",
       "                        <th id=\"T_67e5f65e_27ad_11ea_b7c5_8c16450c81a0level0_row0\" class=\"row_heading level0 row0\" >employee_id</th>\n",
       "                        <td id=\"T_67e5f65e_27ad_11ea_b7c5_8c16450c81a0row0_col0\" class=\"data row0 col0\" >1</td>\n",
       "                        <td id=\"T_67e5f65e_27ad_11ea_b7c5_8c16450c81a0row0_col1\" class=\"data row0 col1\" >-0.0051</td>\n",
       "                        <td id=\"T_67e5f65e_27ad_11ea_b7c5_8c16450c81a0row0_col2\" class=\"data row0 col2\" >0.00044</td>\n",
       "                        <td id=\"T_67e5f65e_27ad_11ea_b7c5_8c16450c81a0row0_col3\" class=\"data row0 col3\" >0.0045</td>\n",
       "                        <td id=\"T_67e5f65e_27ad_11ea_b7c5_8c16450c81a0row0_col4\" class=\"data row0 col4\" >0.0013</td>\n",
       "                        <td id=\"T_67e5f65e_27ad_11ea_b7c5_8c16450c81a0row0_col5\" class=\"data row0 col5\" >-0.0025</td>\n",
       "                        <td id=\"T_67e5f65e_27ad_11ea_b7c5_8c16450c81a0row0_col6\" class=\"data row0 col6\" >0.0084</td>\n",
       "                        <td id=\"T_67e5f65e_27ad_11ea_b7c5_8c16450c81a0row0_col7\" class=\"data row0 col7\" >-0.00059</td>\n",
       "                        <td id=\"T_67e5f65e_27ad_11ea_b7c5_8c16450c81a0row0_col8\" class=\"data row0 col8\" >0.0012</td>\n",
       "                        <td id=\"T_67e5f65e_27ad_11ea_b7c5_8c16450c81a0row0_col9\" class=\"data row0 col9\" >-0.00044</td>\n",
       "                        <td id=\"T_67e5f65e_27ad_11ea_b7c5_8c16450c81a0row0_col10\" class=\"data row0 col10\" >0.0012</td>\n",
       "                        <td id=\"T_67e5f65e_27ad_11ea_b7c5_8c16450c81a0row0_col11\" class=\"data row0 col11\" >0.0015</td>\n",
       "            </tr>\n",
       "            <tr>\n",
       "                        <th id=\"T_67e5f65e_27ad_11ea_b7c5_8c16450c81a0level0_row1\" class=\"row_heading level0 row1\" >no_of_trainings</th>\n",
       "                        <td id=\"T_67e5f65e_27ad_11ea_b7c5_8c16450c81a0row1_col0\" class=\"data row1 col0\" >-0.0051</td>\n",
       "                        <td id=\"T_67e5f65e_27ad_11ea_b7c5_8c16450c81a0row1_col1\" class=\"data row1 col1\" >1</td>\n",
       "                        <td id=\"T_67e5f65e_27ad_11ea_b7c5_8c16450c81a0row1_col2\" class=\"data row1 col2\" >-0.081</td>\n",
       "                        <td id=\"T_67e5f65e_27ad_11ea_b7c5_8c16450c81a0row1_col3\" class=\"data row1 col3\" >-0.063</td>\n",
       "                        <td id=\"T_67e5f65e_27ad_11ea_b7c5_8c16450c81a0row1_col4\" class=\"data row1 col4\" >-0.057</td>\n",
       "                        <td id=\"T_67e5f65e_27ad_11ea_b7c5_8c16450c81a0row1_col5\" class=\"data row1 col5\" >-0.046</td>\n",
       "                        <td id=\"T_67e5f65e_27ad_11ea_b7c5_8c16450c81a0row1_col6\" class=\"data row1 col6\" >-0.0076</td>\n",
       "                        <td id=\"T_67e5f65e_27ad_11ea_b7c5_8c16450c81a0row1_col7\" class=\"data row1 col7\" >0.043</td>\n",
       "                        <td id=\"T_67e5f65e_27ad_11ea_b7c5_8c16450c81a0row1_col8\" class=\"data row1 col8\" >-0.025</td>\n",
       "                        <td id=\"T_67e5f65e_27ad_11ea_b7c5_8c16450c81a0row1_col9\" class=\"data row1 col9\" >0.081</td>\n",
       "                        <td id=\"T_67e5f65e_27ad_11ea_b7c5_8c16450c81a0row1_col10\" class=\"data row1 col10\" >0.02</td>\n",
       "                        <td id=\"T_67e5f65e_27ad_11ea_b7c5_8c16450c81a0row1_col11\" class=\"data row1 col11\" >-0.085</td>\n",
       "            </tr>\n",
       "            <tr>\n",
       "                        <th id=\"T_67e5f65e_27ad_11ea_b7c5_8c16450c81a0level0_row2\" class=\"row_heading level0 row2\" >age</th>\n",
       "                        <td id=\"T_67e5f65e_27ad_11ea_b7c5_8c16450c81a0row2_col0\" class=\"data row2 col0\" >0.00044</td>\n",
       "                        <td id=\"T_67e5f65e_27ad_11ea_b7c5_8c16450c81a0row2_col1\" class=\"data row2 col1\" >-0.081</td>\n",
       "                        <td id=\"T_67e5f65e_27ad_11ea_b7c5_8c16450c81a0row2_col2\" class=\"data row2 col2\" >1</td>\n",
       "                        <td id=\"T_67e5f65e_27ad_11ea_b7c5_8c16450c81a0row2_col3\" class=\"data row2 col3\" >0.006</td>\n",
       "                        <td id=\"T_67e5f65e_27ad_11ea_b7c5_8c16450c81a0row2_col4\" class=\"data row2 col4\" >0.66</td>\n",
       "                        <td id=\"T_67e5f65e_27ad_11ea_b7c5_8c16450c81a0row2_col5\" class=\"data row2 col5\" >-0.026</td>\n",
       "                        <td id=\"T_67e5f65e_27ad_11ea_b7c5_8c16450c81a0row2_col6\" class=\"data row2 col6\" >-0.0082</td>\n",
       "                        <td id=\"T_67e5f65e_27ad_11ea_b7c5_8c16450c81a0row2_col7\" class=\"data row2 col7\" >-0.048</td>\n",
       "                        <td id=\"T_67e5f65e_27ad_11ea_b7c5_8c16450c81a0row2_col8\" class=\"data row2 col8\" >-0.017</td>\n",
       "                        <td id=\"T_67e5f65e_27ad_11ea_b7c5_8c16450c81a0row2_col9\" class=\"data row2 col9\" >-1</td>\n",
       "                        <td id=\"T_67e5f65e_27ad_11ea_b7c5_8c16450c81a0row2_col10\" class=\"data row2 col10\" >0.34</td>\n",
       "                        <td id=\"T_67e5f65e_27ad_11ea_b7c5_8c16450c81a0row2_col11\" class=\"data row2 col11\" >0.016</td>\n",
       "            </tr>\n",
       "            <tr>\n",
       "                        <th id=\"T_67e5f65e_27ad_11ea_b7c5_8c16450c81a0level0_row3\" class=\"row_heading level0 row3\" >previous_year_rating</th>\n",
       "                        <td id=\"T_67e5f65e_27ad_11ea_b7c5_8c16450c81a0row3_col0\" class=\"data row3 col0\" >0.0045</td>\n",
       "                        <td id=\"T_67e5f65e_27ad_11ea_b7c5_8c16450c81a0row3_col1\" class=\"data row3 col1\" >-0.063</td>\n",
       "                        <td id=\"T_67e5f65e_27ad_11ea_b7c5_8c16450c81a0row3_col2\" class=\"data row3 col2\" >0.006</td>\n",
       "                        <td id=\"T_67e5f65e_27ad_11ea_b7c5_8c16450c81a0row3_col3\" class=\"data row3 col3\" >1</td>\n",
       "                        <td id=\"T_67e5f65e_27ad_11ea_b7c5_8c16450c81a0row3_col4\" class=\"data row3 col4\" >0.00025</td>\n",
       "                        <td id=\"T_67e5f65e_27ad_11ea_b7c5_8c16450c81a0row3_col5\" class=\"data row3 col5\" >0.35</td>\n",
       "                        <td id=\"T_67e5f65e_27ad_11ea_b7c5_8c16450c81a0row3_col6\" class=\"data row3 col6\" >0.028</td>\n",
       "                        <td id=\"T_67e5f65e_27ad_11ea_b7c5_8c16450c81a0row3_col7\" class=\"data row3 col7\" >0.075</td>\n",
       "                        <td id=\"T_67e5f65e_27ad_11ea_b7c5_8c16450c81a0row3_col8\" class=\"data row3 col8\" >0.16</td>\n",
       "                        <td id=\"T_67e5f65e_27ad_11ea_b7c5_8c16450c81a0row3_col9\" class=\"data row3 col9\" >-0.006</td>\n",
       "                        <td id=\"T_67e5f65e_27ad_11ea_b7c5_8c16450c81a0row3_col10\" class=\"data row3 col10\" >0.024</td>\n",
       "                        <td id=\"T_67e5f65e_27ad_11ea_b7c5_8c16450c81a0row3_col11\" class=\"data row3 col11\" >0.024</td>\n",
       "            </tr>\n",
       "            <tr>\n",
       "                        <th id=\"T_67e5f65e_27ad_11ea_b7c5_8c16450c81a0level0_row4\" class=\"row_heading level0 row4\" >length_of_service</th>\n",
       "                        <td id=\"T_67e5f65e_27ad_11ea_b7c5_8c16450c81a0row4_col0\" class=\"data row4 col0\" >0.0013</td>\n",
       "                        <td id=\"T_67e5f65e_27ad_11ea_b7c5_8c16450c81a0row4_col1\" class=\"data row4 col1\" >-0.057</td>\n",
       "                        <td id=\"T_67e5f65e_27ad_11ea_b7c5_8c16450c81a0row4_col2\" class=\"data row4 col2\" >0.66</td>\n",
       "                        <td id=\"T_67e5f65e_27ad_11ea_b7c5_8c16450c81a0row4_col3\" class=\"data row4 col3\" >0.00025</td>\n",
       "                        <td id=\"T_67e5f65e_27ad_11ea_b7c5_8c16450c81a0row4_col4\" class=\"data row4 col4\" >1</td>\n",
       "                        <td id=\"T_67e5f65e_27ad_11ea_b7c5_8c16450c81a0row4_col5\" class=\"data row4 col5\" >-0.078</td>\n",
       "                        <td id=\"T_67e5f65e_27ad_11ea_b7c5_8c16450c81a0row4_col6\" class=\"data row4 col6\" >-0.04</td>\n",
       "                        <td id=\"T_67e5f65e_27ad_11ea_b7c5_8c16450c81a0row4_col7\" class=\"data row4 col7\" >-0.038</td>\n",
       "                        <td id=\"T_67e5f65e_27ad_11ea_b7c5_8c16450c81a0row4_col8\" class=\"data row4 col8\" >-0.011</td>\n",
       "                        <td id=\"T_67e5f65e_27ad_11ea_b7c5_8c16450c81a0row4_col9\" class=\"data row4 col9\" >-0.66</td>\n",
       "                        <td id=\"T_67e5f65e_27ad_11ea_b7c5_8c16450c81a0row4_col10\" class=\"data row4 col10\" >0.23</td>\n",
       "                        <td id=\"T_67e5f65e_27ad_11ea_b7c5_8c16450c81a0row4_col11\" class=\"data row4 col11\" >0.02</td>\n",
       "            </tr>\n",
       "            <tr>\n",
       "                        <th id=\"T_67e5f65e_27ad_11ea_b7c5_8c16450c81a0level0_row5\" class=\"row_heading level0 row5\" >KPIs_met >80%</th>\n",
       "                        <td id=\"T_67e5f65e_27ad_11ea_b7c5_8c16450c81a0row5_col0\" class=\"data row5 col0\" >-0.0025</td>\n",
       "                        <td id=\"T_67e5f65e_27ad_11ea_b7c5_8c16450c81a0row5_col1\" class=\"data row5 col1\" >-0.046</td>\n",
       "                        <td id=\"T_67e5f65e_27ad_11ea_b7c5_8c16450c81a0row5_col2\" class=\"data row5 col2\" >-0.026</td>\n",
       "                        <td id=\"T_67e5f65e_27ad_11ea_b7c5_8c16450c81a0row5_col3\" class=\"data row5 col3\" >0.35</td>\n",
       "                        <td id=\"T_67e5f65e_27ad_11ea_b7c5_8c16450c81a0row5_col4\" class=\"data row5 col4\" >-0.078</td>\n",
       "                        <td id=\"T_67e5f65e_27ad_11ea_b7c5_8c16450c81a0row5_col5\" class=\"data row5 col5\" >1</td>\n",
       "                        <td id=\"T_67e5f65e_27ad_11ea_b7c5_8c16450c81a0row5_col6\" class=\"data row5 col6\" >0.097</td>\n",
       "                        <td id=\"T_67e5f65e_27ad_11ea_b7c5_8c16450c81a0row5_col7\" class=\"data row5 col7\" >0.078</td>\n",
       "                        <td id=\"T_67e5f65e_27ad_11ea_b7c5_8c16450c81a0row5_col8\" class=\"data row5 col8\" >0.22</td>\n",
       "                        <td id=\"T_67e5f65e_27ad_11ea_b7c5_8c16450c81a0row5_col9\" class=\"data row5 col9\" >0.026</td>\n",
       "                        <td id=\"T_67e5f65e_27ad_11ea_b7c5_8c16450c81a0row5_col10\" class=\"data row5 col10\" >0.0054</td>\n",
       "                        <td id=\"T_67e5f65e_27ad_11ea_b7c5_8c16450c81a0row5_col11\" class=\"data row5 col11\" >0.037</td>\n",
       "            </tr>\n",
       "            <tr>\n",
       "                        <th id=\"T_67e5f65e_27ad_11ea_b7c5_8c16450c81a0level0_row6\" class=\"row_heading level0 row6\" >awards_won?</th>\n",
       "                        <td id=\"T_67e5f65e_27ad_11ea_b7c5_8c16450c81a0row6_col0\" class=\"data row6 col0\" >0.0084</td>\n",
       "                        <td id=\"T_67e5f65e_27ad_11ea_b7c5_8c16450c81a0row6_col1\" class=\"data row6 col1\" >-0.0076</td>\n",
       "                        <td id=\"T_67e5f65e_27ad_11ea_b7c5_8c16450c81a0row6_col2\" class=\"data row6 col2\" >-0.0082</td>\n",
       "                        <td id=\"T_67e5f65e_27ad_11ea_b7c5_8c16450c81a0row6_col3\" class=\"data row6 col3\" >0.028</td>\n",
       "                        <td id=\"T_67e5f65e_27ad_11ea_b7c5_8c16450c81a0row6_col4\" class=\"data row6 col4\" >-0.04</td>\n",
       "                        <td id=\"T_67e5f65e_27ad_11ea_b7c5_8c16450c81a0row6_col5\" class=\"data row6 col5\" >0.097</td>\n",
       "                        <td id=\"T_67e5f65e_27ad_11ea_b7c5_8c16450c81a0row6_col6\" class=\"data row6 col6\" >1</td>\n",
       "                        <td id=\"T_67e5f65e_27ad_11ea_b7c5_8c16450c81a0row6_col7\" class=\"data row6 col7\" >0.072</td>\n",
       "                        <td id=\"T_67e5f65e_27ad_11ea_b7c5_8c16450c81a0row6_col8\" class=\"data row6 col8\" >0.2</td>\n",
       "                        <td id=\"T_67e5f65e_27ad_11ea_b7c5_8c16450c81a0row6_col9\" class=\"data row6 col9\" >0.0082</td>\n",
       "                        <td id=\"T_67e5f65e_27ad_11ea_b7c5_8c16450c81a0row6_col10\" class=\"data row6 col10\" >-0.0011</td>\n",
       "                        <td id=\"T_67e5f65e_27ad_11ea_b7c5_8c16450c81a0row6_col11\" class=\"data row6 col11\" >-0.0024</td>\n",
       "            </tr>\n",
       "            <tr>\n",
       "                        <th id=\"T_67e5f65e_27ad_11ea_b7c5_8c16450c81a0level0_row7\" class=\"row_heading level0 row7\" >avg_training_score</th>\n",
       "                        <td id=\"T_67e5f65e_27ad_11ea_b7c5_8c16450c81a0row7_col0\" class=\"data row7 col0\" >-0.00059</td>\n",
       "                        <td id=\"T_67e5f65e_27ad_11ea_b7c5_8c16450c81a0row7_col1\" class=\"data row7 col1\" >0.043</td>\n",
       "                        <td id=\"T_67e5f65e_27ad_11ea_b7c5_8c16450c81a0row7_col2\" class=\"data row7 col2\" >-0.048</td>\n",
       "                        <td id=\"T_67e5f65e_27ad_11ea_b7c5_8c16450c81a0row7_col3\" class=\"data row7 col3\" >0.075</td>\n",
       "                        <td id=\"T_67e5f65e_27ad_11ea_b7c5_8c16450c81a0row7_col4\" class=\"data row7 col4\" >-0.038</td>\n",
       "                        <td id=\"T_67e5f65e_27ad_11ea_b7c5_8c16450c81a0row7_col5\" class=\"data row7 col5\" >0.078</td>\n",
       "                        <td id=\"T_67e5f65e_27ad_11ea_b7c5_8c16450c81a0row7_col6\" class=\"data row7 col6\" >0.072</td>\n",
       "                        <td id=\"T_67e5f65e_27ad_11ea_b7c5_8c16450c81a0row7_col7\" class=\"data row7 col7\" >1</td>\n",
       "                        <td id=\"T_67e5f65e_27ad_11ea_b7c5_8c16450c81a0row7_col8\" class=\"data row7 col8\" >0.18</td>\n",
       "                        <td id=\"T_67e5f65e_27ad_11ea_b7c5_8c16450c81a0row7_col9\" class=\"data row7 col9\" >0.048</td>\n",
       "                        <td id=\"T_67e5f65e_27ad_11ea_b7c5_8c16450c81a0row7_col10\" class=\"data row7 col10\" >-0.015</td>\n",
       "                        <td id=\"T_67e5f65e_27ad_11ea_b7c5_8c16450c81a0row7_col11\" class=\"data row7 col11\" >0.024</td>\n",
       "            </tr>\n",
       "            <tr>\n",
       "                        <th id=\"T_67e5f65e_27ad_11ea_b7c5_8c16450c81a0level0_row8\" class=\"row_heading level0 row8\" >is_promoted</th>\n",
       "                        <td id=\"T_67e5f65e_27ad_11ea_b7c5_8c16450c81a0row8_col0\" class=\"data row8 col0\" >0.0012</td>\n",
       "                        <td id=\"T_67e5f65e_27ad_11ea_b7c5_8c16450c81a0row8_col1\" class=\"data row8 col1\" >-0.025</td>\n",
       "                        <td id=\"T_67e5f65e_27ad_11ea_b7c5_8c16450c81a0row8_col2\" class=\"data row8 col2\" >-0.017</td>\n",
       "                        <td id=\"T_67e5f65e_27ad_11ea_b7c5_8c16450c81a0row8_col3\" class=\"data row8 col3\" >0.16</td>\n",
       "                        <td id=\"T_67e5f65e_27ad_11ea_b7c5_8c16450c81a0row8_col4\" class=\"data row8 col4\" >-0.011</td>\n",
       "                        <td id=\"T_67e5f65e_27ad_11ea_b7c5_8c16450c81a0row8_col5\" class=\"data row8 col5\" >0.22</td>\n",
       "                        <td id=\"T_67e5f65e_27ad_11ea_b7c5_8c16450c81a0row8_col6\" class=\"data row8 col6\" >0.2</td>\n",
       "                        <td id=\"T_67e5f65e_27ad_11ea_b7c5_8c16450c81a0row8_col7\" class=\"data row8 col7\" >0.18</td>\n",
       "                        <td id=\"T_67e5f65e_27ad_11ea_b7c5_8c16450c81a0row8_col8\" class=\"data row8 col8\" >1</td>\n",
       "                        <td id=\"T_67e5f65e_27ad_11ea_b7c5_8c16450c81a0row8_col9\" class=\"data row8 col9\" >0.017</td>\n",
       "                        <td id=\"T_67e5f65e_27ad_11ea_b7c5_8c16450c81a0row8_col10\" class=\"data row8 col10\" >0.01</td>\n",
       "                        <td id=\"T_67e5f65e_27ad_11ea_b7c5_8c16450c81a0row8_col11\" class=\"data row8 col11\" >0.011</td>\n",
       "            </tr>\n",
       "            <tr>\n",
       "                        <th id=\"T_67e5f65e_27ad_11ea_b7c5_8c16450c81a0level0_row9\" class=\"row_heading level0 row9\" >birth_year</th>\n",
       "                        <td id=\"T_67e5f65e_27ad_11ea_b7c5_8c16450c81a0row9_col0\" class=\"data row9 col0\" >-0.00044</td>\n",
       "                        <td id=\"T_67e5f65e_27ad_11ea_b7c5_8c16450c81a0row9_col1\" class=\"data row9 col1\" >0.081</td>\n",
       "                        <td id=\"T_67e5f65e_27ad_11ea_b7c5_8c16450c81a0row9_col2\" class=\"data row9 col2\" >-1</td>\n",
       "                        <td id=\"T_67e5f65e_27ad_11ea_b7c5_8c16450c81a0row9_col3\" class=\"data row9 col3\" >-0.006</td>\n",
       "                        <td id=\"T_67e5f65e_27ad_11ea_b7c5_8c16450c81a0row9_col4\" class=\"data row9 col4\" >-0.66</td>\n",
       "                        <td id=\"T_67e5f65e_27ad_11ea_b7c5_8c16450c81a0row9_col5\" class=\"data row9 col5\" >0.026</td>\n",
       "                        <td id=\"T_67e5f65e_27ad_11ea_b7c5_8c16450c81a0row9_col6\" class=\"data row9 col6\" >0.0082</td>\n",
       "                        <td id=\"T_67e5f65e_27ad_11ea_b7c5_8c16450c81a0row9_col7\" class=\"data row9 col7\" >0.048</td>\n",
       "                        <td id=\"T_67e5f65e_27ad_11ea_b7c5_8c16450c81a0row9_col8\" class=\"data row9 col8\" >0.017</td>\n",
       "                        <td id=\"T_67e5f65e_27ad_11ea_b7c5_8c16450c81a0row9_col9\" class=\"data row9 col9\" >1</td>\n",
       "                        <td id=\"T_67e5f65e_27ad_11ea_b7c5_8c16450c81a0row9_col10\" class=\"data row9 col10\" >-0.34</td>\n",
       "                        <td id=\"T_67e5f65e_27ad_11ea_b7c5_8c16450c81a0row9_col11\" class=\"data row9 col11\" >-0.016</td>\n",
       "            </tr>\n",
       "            <tr>\n",
       "                        <th id=\"T_67e5f65e_27ad_11ea_b7c5_8c16450c81a0level0_row10\" class=\"row_heading level0 row10\" >avg_age_reg</th>\n",
       "                        <td id=\"T_67e5f65e_27ad_11ea_b7c5_8c16450c81a0row10_col0\" class=\"data row10 col0\" >0.0012</td>\n",
       "                        <td id=\"T_67e5f65e_27ad_11ea_b7c5_8c16450c81a0row10_col1\" class=\"data row10 col1\" >0.02</td>\n",
       "                        <td id=\"T_67e5f65e_27ad_11ea_b7c5_8c16450c81a0row10_col2\" class=\"data row10 col2\" >0.34</td>\n",
       "                        <td id=\"T_67e5f65e_27ad_11ea_b7c5_8c16450c81a0row10_col3\" class=\"data row10 col3\" >0.024</td>\n",
       "                        <td id=\"T_67e5f65e_27ad_11ea_b7c5_8c16450c81a0row10_col4\" class=\"data row10 col4\" >0.23</td>\n",
       "                        <td id=\"T_67e5f65e_27ad_11ea_b7c5_8c16450c81a0row10_col5\" class=\"data row10 col5\" >0.0054</td>\n",
       "                        <td id=\"T_67e5f65e_27ad_11ea_b7c5_8c16450c81a0row10_col6\" class=\"data row10 col6\" >-0.0011</td>\n",
       "                        <td id=\"T_67e5f65e_27ad_11ea_b7c5_8c16450c81a0row10_col7\" class=\"data row10 col7\" >-0.015</td>\n",
       "                        <td id=\"T_67e5f65e_27ad_11ea_b7c5_8c16450c81a0row10_col8\" class=\"data row10 col8\" >0.01</td>\n",
       "                        <td id=\"T_67e5f65e_27ad_11ea_b7c5_8c16450c81a0row10_col9\" class=\"data row10 col9\" >-0.34</td>\n",
       "                        <td id=\"T_67e5f65e_27ad_11ea_b7c5_8c16450c81a0row10_col10\" class=\"data row10 col10\" >1</td>\n",
       "                        <td id=\"T_67e5f65e_27ad_11ea_b7c5_8c16450c81a0row10_col11\" class=\"data row10 col11\" >0.11</td>\n",
       "            </tr>\n",
       "            <tr>\n",
       "                        <th id=\"T_67e5f65e_27ad_11ea_b7c5_8c16450c81a0level0_row11\" class=\"row_heading level0 row11\" >avg_age_gen</th>\n",
       "                        <td id=\"T_67e5f65e_27ad_11ea_b7c5_8c16450c81a0row11_col0\" class=\"data row11 col0\" >0.0015</td>\n",
       "                        <td id=\"T_67e5f65e_27ad_11ea_b7c5_8c16450c81a0row11_col1\" class=\"data row11 col1\" >-0.085</td>\n",
       "                        <td id=\"T_67e5f65e_27ad_11ea_b7c5_8c16450c81a0row11_col2\" class=\"data row11 col2\" >0.016</td>\n",
       "                        <td id=\"T_67e5f65e_27ad_11ea_b7c5_8c16450c81a0row11_col3\" class=\"data row11 col3\" >0.024</td>\n",
       "                        <td id=\"T_67e5f65e_27ad_11ea_b7c5_8c16450c81a0row11_col4\" class=\"data row11 col4\" >0.02</td>\n",
       "                        <td id=\"T_67e5f65e_27ad_11ea_b7c5_8c16450c81a0row11_col5\" class=\"data row11 col5\" >0.037</td>\n",
       "                        <td id=\"T_67e5f65e_27ad_11ea_b7c5_8c16450c81a0row11_col6\" class=\"data row11 col6\" >-0.0024</td>\n",
       "                        <td id=\"T_67e5f65e_27ad_11ea_b7c5_8c16450c81a0row11_col7\" class=\"data row11 col7\" >0.024</td>\n",
       "                        <td id=\"T_67e5f65e_27ad_11ea_b7c5_8c16450c81a0row11_col8\" class=\"data row11 col8\" >0.011</td>\n",
       "                        <td id=\"T_67e5f65e_27ad_11ea_b7c5_8c16450c81a0row11_col9\" class=\"data row11 col9\" >-0.016</td>\n",
       "                        <td id=\"T_67e5f65e_27ad_11ea_b7c5_8c16450c81a0row11_col10\" class=\"data row11 col10\" >0.11</td>\n",
       "                        <td id=\"T_67e5f65e_27ad_11ea_b7c5_8c16450c81a0row11_col11\" class=\"data row11 col11\" >1</td>\n",
       "            </tr>\n",
       "    </tbody></table>"
      ],
      "text/plain": [
       "<pandas.io.formats.style.Styler at 0x1de8f9ac5c0>"
      ]
     },
     "execution_count": 21,
     "metadata": {},
     "output_type": "execute_result"
    }
   ],
   "source": [
    "corr = train_data.corr(method ='pearson')\n",
    "corr.style.background_gradient(cmap='PuBu').set_precision(2)"
   ]
  },
  {
   "cell_type": "markdown",
   "metadata": {
    "colab_type": "text",
    "id": "Gm5SdaLvWhDc"
   },
   "source": [
    "Correlation metric used is Pearson.\n",
    "\n",
    "Newly created feature birth_year has 0.017 of correlation with target variable.\n",
    "\n",
    "Feature which is most important in deciding promotion is KPIs met.\n"
   ]
  },
  {
   "cell_type": "markdown",
   "metadata": {
    "colab_type": "text",
    "id": "LvW2cRnVNyTw"
   },
   "source": [
    "<h2>Upsampling</h2>"
   ]
  },
  {
   "cell_type": "code",
   "execution_count": 22,
   "metadata": {
    "colab": {
     "base_uri": "https://localhost:8080/",
     "height": 67
    },
    "colab_type": "code",
    "id": "bldWRwn4NyTy",
    "outputId": "66fcea27-6f2c-496c-f699-e2c55a735528"
   },
   "outputs": [
    {
     "data": {
      "text/plain": [
       "1    50140\n",
       "0    50140\n",
       "Name: is_promoted, dtype: int64"
      ]
     },
     "execution_count": 22,
     "metadata": {},
     "output_type": "execute_result"
    }
   ],
   "source": [
    "from sklearn.utils import resample\n",
    "\n",
    "train_data_majority = train_data[train_data.is_promoted==0]\n",
    "train_data_minority = train_data[train_data.is_promoted==1]\n",
    "\n",
    "# Upsample minority class\n",
    "train_data_minority_upsampled = resample(train_data_minority, \n",
    "                                 replace=True,     # sample with replacement\n",
    "                                 n_samples=count_pro[0],    # to match majority class\n",
    "                                 random_state=123) # reproducible results\n",
    " \n",
    "# Combine majority class with upsampled minority class\n",
    "train_data = pd.concat([train_data_majority, train_data_minority_upsampled])\n",
    " \n",
    "# Display new class counts\n",
    "train_data.is_promoted.value_counts()"
   ]
  },
  {
   "cell_type": "code",
   "execution_count": 23,
   "metadata": {
    "colab": {
     "base_uri": "https://localhost:8080/",
     "height": 34
    },
    "colab_type": "code",
    "id": "TlbvuIesNyT2",
    "outputId": "3672891f-a43a-43fc-e85d-604114c373a0"
   },
   "outputs": [
    {
     "data": {
      "text/plain": [
       "(100280, 17)"
      ]
     },
     "execution_count": 23,
     "metadata": {},
     "output_type": "execute_result"
    }
   ],
   "source": [
    "train_data.shape"
   ]
  },
  {
   "cell_type": "markdown",
   "metadata": {
    "colab_type": "text",
    "id": "4xjfLP2hNyT7"
   },
   "source": [
    "<h3>Pre-Processing Data</h3>"
   ]
  },
  {
   "cell_type": "markdown",
   "metadata": {
    "colab_type": "text",
    "id": "zLcWRNzlNyT8"
   },
   "source": [
    "**Department**"
   ]
  },
  {
   "cell_type": "code",
   "execution_count": 24,
   "metadata": {
    "colab": {},
    "colab_type": "code",
    "id": "UbT8pjzyNyT-",
    "scrolled": true
   },
   "outputs": [],
   "source": [
    "catogories = list(train_data['department'].values)\n",
    "\n",
    "cat_list = []\n",
    "for i in catogories:\n",
    "    temp = \"\"\n",
    "\n",
    "    for j in i.split(','): \n",
    "        if 'The' in j.split(): \n",
    "            j=j.replace('The','') \n",
    "        j = j.replace(' ','')\n",
    "        temp+=j.strip()+\" \" \n",
    "        temp = temp.replace('&','_')\n",
    "    cat_list.append(temp.strip())\n",
    "    \n",
    "train_data['clean_department'] = cat_list\n",
    "train_data.drop(['department'], axis=1, inplace=True)\n",
    "\n",
    "from collections import Counter\n",
    "my_counter = Counter()\n",
    "for word in train_data['clean_department'].values:\n",
    "    my_counter.update(word.split())\n",
    "\n",
    "cat_dict = dict(my_counter)\n",
    "sorted_cat_dict = dict(sorted(cat_dict.items(), key=lambda kv: kv[1]))"
   ]
  },
  {
   "cell_type": "code",
   "execution_count": 25,
   "metadata": {
    "colab": {
     "base_uri": "https://localhost:8080/",
     "height": 190
    },
    "colab_type": "code",
    "id": "7Id-LvW_NyUF",
    "outputId": "7d0089e5-cde7-47d1-fdca-5a27f4dd04cb"
   },
   "outputs": [
    {
     "data": {
      "text/html": [
       "<div>\n",
       "<style scoped>\n",
       "    .dataframe tbody tr th:only-of-type {\n",
       "        vertical-align: middle;\n",
       "    }\n",
       "\n",
       "    .dataframe tbody tr th {\n",
       "        vertical-align: top;\n",
       "    }\n",
       "\n",
       "    .dataframe thead th {\n",
       "        text-align: right;\n",
       "    }\n",
       "</style>\n",
       "<table border=\"1\" class=\"dataframe\">\n",
       "  <thead>\n",
       "    <tr style=\"text-align: right;\">\n",
       "      <th></th>\n",
       "      <th>employee_id</th>\n",
       "      <th>region</th>\n",
       "      <th>education</th>\n",
       "      <th>gender</th>\n",
       "      <th>recruitment_channel</th>\n",
       "      <th>no_of_trainings</th>\n",
       "      <th>age</th>\n",
       "      <th>previous_year_rating</th>\n",
       "      <th>length_of_service</th>\n",
       "      <th>KPIs_met &gt;80%</th>\n",
       "      <th>awards_won?</th>\n",
       "      <th>avg_training_score</th>\n",
       "      <th>is_promoted</th>\n",
       "      <th>birth_year</th>\n",
       "      <th>avg_age_reg</th>\n",
       "      <th>avg_age_gen</th>\n",
       "      <th>clean_department</th>\n",
       "    </tr>\n",
       "  </thead>\n",
       "  <tbody>\n",
       "    <tr>\n",
       "      <th>0</th>\n",
       "      <td>65438</td>\n",
       "      <td>region_7</td>\n",
       "      <td>Master's &amp; above</td>\n",
       "      <td>f</td>\n",
       "      <td>sourcing</td>\n",
       "      <td>1</td>\n",
       "      <td>35</td>\n",
       "      <td>5.0</td>\n",
       "      <td>8</td>\n",
       "      <td>1</td>\n",
       "      <td>0</td>\n",
       "      <td>49</td>\n",
       "      <td>0</td>\n",
       "      <td>1984</td>\n",
       "      <td>35.644229</td>\n",
       "      <td>34.995647</td>\n",
       "      <td>Sales_Marketing</td>\n",
       "    </tr>\n",
       "    <tr>\n",
       "      <th>1</th>\n",
       "      <td>65141</td>\n",
       "      <td>region_22</td>\n",
       "      <td>Bachelor's</td>\n",
       "      <td>m</td>\n",
       "      <td>other</td>\n",
       "      <td>1</td>\n",
       "      <td>30</td>\n",
       "      <td>5.0</td>\n",
       "      <td>4</td>\n",
       "      <td>0</td>\n",
       "      <td>0</td>\n",
       "      <td>60</td>\n",
       "      <td>0</td>\n",
       "      <td>1989</td>\n",
       "      <td>32.321251</td>\n",
       "      <td>34.722672</td>\n",
       "      <td>Operations</td>\n",
       "    </tr>\n",
       "    <tr>\n",
       "      <th>2</th>\n",
       "      <td>7513</td>\n",
       "      <td>region_19</td>\n",
       "      <td>Bachelor's</td>\n",
       "      <td>m</td>\n",
       "      <td>sourcing</td>\n",
       "      <td>1</td>\n",
       "      <td>34</td>\n",
       "      <td>3.0</td>\n",
       "      <td>7</td>\n",
       "      <td>0</td>\n",
       "      <td>0</td>\n",
       "      <td>50</td>\n",
       "      <td>0</td>\n",
       "      <td>1985</td>\n",
       "      <td>36.113272</td>\n",
       "      <td>34.722672</td>\n",
       "      <td>Sales_Marketing</td>\n",
       "    </tr>\n",
       "  </tbody>\n",
       "</table>\n",
       "</div>"
      ],
      "text/plain": [
       "   employee_id     region         education gender recruitment_channel  \\\n",
       "0        65438   region_7  Master's & above      f            sourcing   \n",
       "1        65141  region_22        Bachelor's      m               other   \n",
       "2         7513  region_19        Bachelor's      m            sourcing   \n",
       "\n",
       "   no_of_trainings  age  previous_year_rating  length_of_service  \\\n",
       "0                1   35                   5.0                  8   \n",
       "1                1   30                   5.0                  4   \n",
       "2                1   34                   3.0                  7   \n",
       "\n",
       "   KPIs_met >80%  awards_won?  avg_training_score  is_promoted  birth_year  \\\n",
       "0              1            0                  49            0        1984   \n",
       "1              0            0                  60            0        1989   \n",
       "2              0            0                  50            0        1985   \n",
       "\n",
       "   avg_age_reg  avg_age_gen clean_department  \n",
       "0    35.644229    34.995647  Sales_Marketing  \n",
       "1    32.321251    34.722672       Operations  \n",
       "2    36.113272    34.722672  Sales_Marketing  "
      ]
     },
     "execution_count": 25,
     "metadata": {},
     "output_type": "execute_result"
    }
   ],
   "source": [
    "train_data.head(3)"
   ]
  },
  {
   "cell_type": "code",
   "execution_count": 26,
   "metadata": {
    "colab": {
     "base_uri": "https://localhost:8080/",
     "height": 50
    },
    "colab_type": "code",
    "id": "7WgHx3SANyUJ",
    "outputId": "222580a2-8e9e-422c-a4e7-400803e708eb"
   },
   "outputs": [
    {
     "data": {
      "text/plain": [
       "array(['Sales_Marketing', 'Operations', 'Technology', 'Analytics', 'R_D',\n",
       "       'Procurement', 'Finance', 'HR', 'Legal'], dtype=object)"
      ]
     },
     "execution_count": 26,
     "metadata": {},
     "output_type": "execute_result"
    }
   ],
   "source": [
    "train_data['clean_department'].unique()"
   ]
  },
  {
   "cell_type": "code",
   "execution_count": 27,
   "metadata": {
    "colab": {
     "base_uri": "https://localhost:8080/",
     "height": 319
    },
    "colab_type": "code",
    "id": "xgtA7FZuNyUP",
    "outputId": "657d2622-8db8-4c0c-ef7a-9cc006ccd11d",
    "scrolled": true
   },
   "outputs": [
    {
     "data": {
      "text/plain": [
       "employee_id             False\n",
       "region                  False\n",
       "education                True\n",
       "gender                  False\n",
       "recruitment_channel     False\n",
       "no_of_trainings         False\n",
       "age                     False\n",
       "previous_year_rating     True\n",
       "length_of_service       False\n",
       "KPIs_met >80%           False\n",
       "awards_won?             False\n",
       "avg_training_score      False\n",
       "is_promoted             False\n",
       "birth_year              False\n",
       "avg_age_reg             False\n",
       "avg_age_gen             False\n",
       "clean_department        False\n",
       "dtype: bool"
      ]
     },
     "execution_count": 27,
     "metadata": {},
     "output_type": "execute_result"
    }
   ],
   "source": [
    "train_data.isnull().any()"
   ]
  },
  {
   "cell_type": "markdown",
   "metadata": {
    "colab_type": "text",
    "id": "2GIneodNNyUT"
   },
   "source": [
    "Education and Previous year rating have some missing values which we will be imputing."
   ]
  },
  {
   "cell_type": "markdown",
   "metadata": {
    "colab_type": "text",
    "id": "tC9I5Hg0NyUU"
   },
   "source": [
    "<h3>Education</h3>"
   ]
  },
  {
   "cell_type": "markdown",
   "metadata": {
    "colab_type": "text",
    "id": "-MHmz4dzNyUV"
   },
   "source": [
    "**Checking if the values of education**"
   ]
  },
  {
   "cell_type": "code",
   "execution_count": 28,
   "metadata": {
    "colab": {
     "base_uri": "https://localhost:8080/",
     "height": 50
    },
    "colab_type": "code",
    "id": "lrtM6eDHNyUW",
    "outputId": "8eb7fb90-652c-4afe-ed6a-c1a2fc04e539"
   },
   "outputs": [
    {
     "data": {
      "text/plain": [
       "array([\"Master's & above\", \"Bachelor's\", nan, 'Below Secondary'],\n",
       "      dtype=object)"
      ]
     },
     "execution_count": 28,
     "metadata": {},
     "output_type": "execute_result"
    }
   ],
   "source": [
    "train_data['education'].unique()"
   ]
  },
  {
   "cell_type": "code",
   "execution_count": 29,
   "metadata": {
    "colab": {
     "base_uri": "https://localhost:8080/",
     "height": 34
    },
    "colab_type": "code",
    "id": "oscLl9MNNyUa",
    "outputId": "de2dfd14-ea32-4714-a464-b5fef078c632"
   },
   "outputs": [
    {
     "name": "stdout",
     "output_type": "stream",
     "text": [
      "Number of people whose education qualification is not captured: 3616\n"
     ]
    }
   ],
   "source": [
    "a = train_data['education'].isnull().sum()\n",
    "print(\"Number of people whose education qualification is not captured:\", a)"
   ]
  },
  {
   "cell_type": "code",
   "execution_count": 30,
   "metadata": {
    "colab": {
     "base_uri": "https://localhost:8080/",
     "height": 84
    },
    "colab_type": "code",
    "id": "Jk2qnlNkNyUf",
    "outputId": "5070984f-8514-4782-d4ff-7e5c8317e158"
   },
   "outputs": [
    {
     "data": {
      "text/plain": [
       "Bachelor's          66076\n",
       "Master's & above    29113\n",
       "Below Secondary      1475\n",
       "Name: education, dtype: int64"
      ]
     },
     "execution_count": 30,
     "metadata": {},
     "output_type": "execute_result"
    }
   ],
   "source": [
    "train_data['education'].value_counts()"
   ]
  },
  {
   "cell_type": "markdown",
   "metadata": {
    "colab_type": "text",
    "id": "RhuKQmcVNyUj"
   },
   "source": [
    "**Imputing values with most frequent**"
   ]
  },
  {
   "cell_type": "code",
   "execution_count": 31,
   "metadata": {
    "colab": {},
    "colab_type": "code",
    "id": "JGtJ56X4NyUk",
    "scrolled": true
   },
   "outputs": [],
   "source": [
    "from sklearn.impute import SimpleImputer\n",
    "imp = SimpleImputer(missing_values=np.nan, strategy='most_frequent')\n",
    "Y = train_data['education'].values.reshape(-1, 1)\n",
    "train_data['education'] = imp.fit_transform(Y)"
   ]
  },
  {
   "cell_type": "code",
   "execution_count": 32,
   "metadata": {
    "colab": {
     "base_uri": "https://localhost:8080/",
     "height": 118
    },
    "colab_type": "code",
    "id": "8TcX9dgGNyUn",
    "outputId": "f7bfb127-048a-4080-a2a4-3a8ba1e1c371"
   },
   "outputs": [
    {
     "data": {
      "text/plain": [
       "0    Master's & above\n",
       "1          Bachelor's\n",
       "2          Bachelor's\n",
       "3          Bachelor's\n",
       "4          Bachelor's\n",
       "Name: education, dtype: object"
      ]
     },
     "execution_count": 32,
     "metadata": {},
     "output_type": "execute_result"
    }
   ],
   "source": [
    "train_data['education'].head()"
   ]
  },
  {
   "cell_type": "code",
   "execution_count": 33,
   "metadata": {
    "colab": {},
    "colab_type": "code",
    "id": "BAunEl_oNyUr",
    "scrolled": true
   },
   "outputs": [],
   "source": [
    "import re\n",
    "education = list(train_data['education'].values)\n",
    "\n",
    "cat_list = []\n",
    "for i in education:\n",
    "    temp = \"\"\n",
    "\n",
    "    for j in i.split(','): \n",
    "        if 'The' in j.split():\n",
    "            j = j.replace('The','')\n",
    "        j = j.replace(' ','')\n",
    "        temp+=j.strip()+\" \" \n",
    "        temp = temp.replace('&','_')\n",
    "        temp = temp.replace(\"\\'s\",'s')\n",
    "    cat_list.append(temp.strip())\n",
    "    \n",
    "train_data['clean_education'] = cat_list\n",
    "train_data.drop(['education'], axis=1, inplace=True)\n",
    "\n",
    "from collections import Counter\n",
    "my_counter = Counter()\n",
    "for word in train_data['clean_education'].values:\n",
    "    my_counter.update(word.split())\n",
    "\n",
    "cat_dict = dict(my_counter)\n",
    "sorted_cat_edu = dict(sorted(cat_dict.items(), key=lambda kv: kv[1]))"
   ]
  },
  {
   "cell_type": "code",
   "execution_count": 34,
   "metadata": {
    "colab": {
     "base_uri": "https://localhost:8080/",
     "height": 84
    },
    "colab_type": "code",
    "id": "bPU8UQUENyUv",
    "outputId": "7db7acf5-63a4-43ac-ab98-7ca6b6d0c2cb"
   },
   "outputs": [
    {
     "data": {
      "text/plain": [
       "0    Masters_above\n",
       "1        Bachelors\n",
       "2        Bachelors\n",
       "Name: clean_education, dtype: object"
      ]
     },
     "execution_count": 34,
     "metadata": {},
     "output_type": "execute_result"
    }
   ],
   "source": [
    "train_data['clean_education'].head(3)"
   ]
  },
  {
   "cell_type": "markdown",
   "metadata": {
    "colab_type": "text",
    "id": "vakVHEdENyU1"
   },
   "source": [
    "**Previous Year Rating**"
   ]
  },
  {
   "cell_type": "code",
   "execution_count": 35,
   "metadata": {
    "colab": {
     "base_uri": "https://localhost:8080/",
     "height": 34
    },
    "colab_type": "code",
    "id": "hsuNv9CGNyU2",
    "outputId": "6e5c6168-11bc-42f7-b810-03353367d69f"
   },
   "outputs": [
    {
     "name": "stdout",
     "output_type": "stream",
     "text": [
      "Number of people whose previous year rating is not captured: 7408\n"
     ]
    }
   ],
   "source": [
    "pyr = train_data['previous_year_rating'].isnull().sum()\n",
    "print(\"Number of people whose previous year rating is not captured:\", pyr)"
   ]
  },
  {
   "cell_type": "code",
   "execution_count": 36,
   "metadata": {
    "colab": {
     "base_uri": "https://localhost:8080/",
     "height": 118
    },
    "colab_type": "code",
    "id": "kpfHMODPNyU7",
    "outputId": "646853f9-caf4-4337-d382-33a58031693a"
   },
   "outputs": [
    {
     "data": {
      "text/plain": [
       "3.0    31844\n",
       "5.0    30503\n",
       "4.0    17416\n",
       "1.0     7087\n",
       "2.0     6022\n",
       "Name: previous_year_rating, dtype: int64"
      ]
     },
     "execution_count": 36,
     "metadata": {},
     "output_type": "execute_result"
    }
   ],
   "source": [
    "train_data['previous_year_rating'].value_counts()"
   ]
  },
  {
   "cell_type": "code",
   "execution_count": 37,
   "metadata": {
    "colab": {},
    "colab_type": "code",
    "id": "wuEnBDUuNyU_"
   },
   "outputs": [],
   "source": [
    "imp = SimpleImputer(missing_values=np.nan, strategy='most_frequent')\n",
    "X = train_data['previous_year_rating'].values.reshape(-1, 1)\n",
    "train_data['previous_year_rating'] = imp.fit_transform(X)"
   ]
  },
  {
   "cell_type": "code",
   "execution_count": 38,
   "metadata": {
    "colab": {
     "base_uri": "https://localhost:8080/",
     "height": 34
    },
    "colab_type": "code",
    "id": "ots91ksKZUv4",
    "outputId": "38ca8b3a-50ae-44cb-a9fe-9b15f15268bb"
   },
   "outputs": [
    {
     "data": {
      "text/plain": [
       "array([5., 3., 1., 4., 2.])"
      ]
     },
     "execution_count": 38,
     "metadata": {},
     "output_type": "execute_result"
    }
   ],
   "source": [
    "train_data['previous_year_rating'].unique()"
   ]
  },
  {
   "cell_type": "code",
   "execution_count": 39,
   "metadata": {
    "colab": {},
    "colab_type": "code",
    "id": "H5SbjWLfNyVN"
   },
   "outputs": [],
   "source": [
    "avg_age_dep = train_data.groupby('clean_department').age.mean().to_dict()\n",
    "train_data['avg_age_dep'] = train_data.clean_department.apply(lambda x: avg_age_dep[x])"
   ]
  },
  {
   "cell_type": "code",
   "execution_count": 40,
   "metadata": {
    "colab": {},
    "colab_type": "code",
    "id": "L7l5fSTJNyVR"
   },
   "outputs": [],
   "source": [
    "avg_age_edu = train_data.groupby('clean_education').age.mean().to_dict()\n",
    "train_data['avg_age_edu'] = train_data.clean_education.apply(lambda x: avg_age_edu[x])"
   ]
  },
  {
   "cell_type": "markdown",
   "metadata": {
    "colab_type": "text",
    "id": "A5FnNyeoNyVe"
   },
   "source": [
    "**Splitting data**"
   ]
  },
  {
   "cell_type": "code",
   "execution_count": 41,
   "metadata": {
    "colab": {},
    "colab_type": "code",
    "id": "M6bWnZTZNyVf",
    "scrolled": true
   },
   "outputs": [],
   "source": [
    "Y = train_data['is_promoted'].values\n",
    "train_data.drop(['is_promoted'], axis=1, inplace=True)"
   ]
  },
  {
   "cell_type": "code",
   "execution_count": 42,
   "metadata": {
    "colab": {},
    "colab_type": "code",
    "id": "AbX9ljfENyVi"
   },
   "outputs": [],
   "source": [
    "from sklearn.model_selection import train_test_split\n",
    "\n",
    "X_train, X_test, y_train, y_test = train_test_split(train_data, Y, test_size=0.33, stratify=Y)"
   ]
  },
  {
   "cell_type": "code",
   "execution_count": 43,
   "metadata": {
    "colab": {
     "base_uri": "https://localhost:8080/",
     "height": 173
    },
    "colab_type": "code",
    "id": "HXVkxhAKNyVl",
    "outputId": "8272f388-4b80-4115-be88-4b75c0c2cce5"
   },
   "outputs": [
    {
     "data": {
      "text/html": [
       "<div>\n",
       "<style scoped>\n",
       "    .dataframe tbody tr th:only-of-type {\n",
       "        vertical-align: middle;\n",
       "    }\n",
       "\n",
       "    .dataframe tbody tr th {\n",
       "        vertical-align: top;\n",
       "    }\n",
       "\n",
       "    .dataframe thead th {\n",
       "        text-align: right;\n",
       "    }\n",
       "</style>\n",
       "<table border=\"1\" class=\"dataframe\">\n",
       "  <thead>\n",
       "    <tr style=\"text-align: right;\">\n",
       "      <th></th>\n",
       "      <th>employee_id</th>\n",
       "      <th>region</th>\n",
       "      <th>gender</th>\n",
       "      <th>recruitment_channel</th>\n",
       "      <th>no_of_trainings</th>\n",
       "      <th>age</th>\n",
       "      <th>previous_year_rating</th>\n",
       "      <th>length_of_service</th>\n",
       "      <th>KPIs_met &gt;80%</th>\n",
       "      <th>awards_won?</th>\n",
       "      <th>avg_training_score</th>\n",
       "      <th>birth_year</th>\n",
       "      <th>avg_age_reg</th>\n",
       "      <th>avg_age_gen</th>\n",
       "      <th>clean_department</th>\n",
       "      <th>clean_education</th>\n",
       "      <th>avg_age_dep</th>\n",
       "      <th>avg_age_edu</th>\n",
       "    </tr>\n",
       "  </thead>\n",
       "  <tbody>\n",
       "    <tr>\n",
       "      <th>13259</th>\n",
       "      <td>69286</td>\n",
       "      <td>region_31</td>\n",
       "      <td>m</td>\n",
       "      <td>sourcing</td>\n",
       "      <td>1</td>\n",
       "      <td>27</td>\n",
       "      <td>3.0</td>\n",
       "      <td>4</td>\n",
       "      <td>1</td>\n",
       "      <td>0</td>\n",
       "      <td>58</td>\n",
       "      <td>1992</td>\n",
       "      <td>33.047545</td>\n",
       "      <td>34.722672</td>\n",
       "      <td>Finance</td>\n",
       "      <td>Bachelors</td>\n",
       "      <td>31.504185</td>\n",
       "      <td>32.94602</td>\n",
       "    </tr>\n",
       "    <tr>\n",
       "      <th>18682</th>\n",
       "      <td>13833</td>\n",
       "      <td>region_13</td>\n",
       "      <td>m</td>\n",
       "      <td>sourcing</td>\n",
       "      <td>1</td>\n",
       "      <td>45</td>\n",
       "      <td>5.0</td>\n",
       "      <td>16</td>\n",
       "      <td>0</td>\n",
       "      <td>0</td>\n",
       "      <td>62</td>\n",
       "      <td>1974</td>\n",
       "      <td>35.743580</td>\n",
       "      <td>34.722672</td>\n",
       "      <td>Sales_Marketing</td>\n",
       "      <td>Bachelors</td>\n",
       "      <td>34.724031</td>\n",
       "      <td>32.94602</td>\n",
       "    </tr>\n",
       "    <tr>\n",
       "      <th>43816</th>\n",
       "      <td>9261</td>\n",
       "      <td>region_2</td>\n",
       "      <td>m</td>\n",
       "      <td>other</td>\n",
       "      <td>1</td>\n",
       "      <td>29</td>\n",
       "      <td>3.0</td>\n",
       "      <td>1</td>\n",
       "      <td>0</td>\n",
       "      <td>0</td>\n",
       "      <td>60</td>\n",
       "      <td>1990</td>\n",
       "      <td>38.811634</td>\n",
       "      <td>34.722672</td>\n",
       "      <td>Sales_Marketing</td>\n",
       "      <td>Bachelors</td>\n",
       "      <td>34.724031</td>\n",
       "      <td>32.94602</td>\n",
       "    </tr>\n",
       "  </tbody>\n",
       "</table>\n",
       "</div>"
      ],
      "text/plain": [
       "       employee_id     region gender recruitment_channel  no_of_trainings  \\\n",
       "13259        69286  region_31      m            sourcing                1   \n",
       "18682        13833  region_13      m            sourcing                1   \n",
       "43816         9261   region_2      m               other                1   \n",
       "\n",
       "       age  previous_year_rating  length_of_service  KPIs_met >80%  \\\n",
       "13259   27                   3.0                  4              1   \n",
       "18682   45                   5.0                 16              0   \n",
       "43816   29                   3.0                  1              0   \n",
       "\n",
       "       awards_won?  avg_training_score  birth_year  avg_age_reg  avg_age_gen  \\\n",
       "13259            0                  58        1992    33.047545    34.722672   \n",
       "18682            0                  62        1974    35.743580    34.722672   \n",
       "43816            0                  60        1990    38.811634    34.722672   \n",
       "\n",
       "      clean_department clean_education  avg_age_dep  avg_age_edu  \n",
       "13259          Finance       Bachelors    31.504185     32.94602  \n",
       "18682  Sales_Marketing       Bachelors    34.724031     32.94602  \n",
       "43816  Sales_Marketing       Bachelors    34.724031     32.94602  "
      ]
     },
     "execution_count": 43,
     "metadata": {},
     "output_type": "execute_result"
    }
   ],
   "source": [
    "X_train.head(3)"
   ]
  },
  {
   "cell_type": "code",
   "execution_count": 44,
   "metadata": {
    "colab": {
     "base_uri": "https://localhost:8080/",
     "height": 50
    },
    "colab_type": "code",
    "id": "APxbgfszNyVq",
    "outputId": "f333e526-953f-49e3-b975-f8a60c940892"
   },
   "outputs": [
    {
     "name": "stdout",
     "output_type": "stream",
     "text": [
      "(67187, 18)\n",
      "(33093, 18)\n"
     ]
    }
   ],
   "source": [
    "print(X_train.shape)\n",
    "print(X_test.shape)"
   ]
  },
  {
   "cell_type": "markdown",
   "metadata": {
    "colab_type": "text",
    "id": "81GehcpoNyVv"
   },
   "source": [
    "<h3>Vectorizing Categorical features</h3>"
   ]
  },
  {
   "cell_type": "code",
   "execution_count": 45,
   "metadata": {
    "colab": {
     "base_uri": "https://localhost:8080/",
     "height": 84
    },
    "colab_type": "code",
    "id": "cHS6Le9WNyVx",
    "outputId": "20518207-df98-4101-d77a-8ac6c8f86c14"
   },
   "outputs": [
    {
     "name": "stdout",
     "output_type": "stream",
     "text": [
      "['Legal', 'R_D', 'HR', 'Finance', 'Analytics', 'Procurement', 'Technology', 'Operations', 'Sales_Marketing']\n",
      "====================================================================================================\n",
      "Shape of matrix after one hot encodig  (67187, 9) (67187,)\n",
      "Shape of matrix after one hot encodig  (33093, 9) (33093,)\n"
     ]
    }
   ],
   "source": [
    "from sklearn.feature_extraction.text import CountVectorizer\n",
    "\n",
    "vectorizer_cat = CountVectorizer(vocabulary=list(sorted_cat_dict.keys()), lowercase=False, binary=True)\n",
    "vectorizer_cat.fit(X_train['clean_department'].values)\n",
    "\n",
    "train_dep = vectorizer_cat.transform(X_train['clean_department'].values)\n",
    "test_dep = vectorizer_cat.transform(X_test['clean_department'].values)\n",
    "\n",
    "print(vectorizer_cat.get_feature_names())\n",
    "print(\"=\"*100)\n",
    "print(\"Shape of matrix after one hot encodig \",train_dep.shape, y_train.shape)\n",
    "print(\"Shape of matrix after one hot encodig \",test_dep.shape, y_test.shape)"
   ]
  },
  {
   "cell_type": "code",
   "execution_count": 46,
   "metadata": {
    "colab": {
     "base_uri": "https://localhost:8080/",
     "height": 84
    },
    "colab_type": "code",
    "id": "lmT8DXWzNyVz",
    "outputId": "d5dcaff3-971c-40ce-97f8-1c48a1dfa98d"
   },
   "outputs": [
    {
     "name": "stdout",
     "output_type": "stream",
     "text": [
      "['BelowSecondary', 'Masters_above', 'Bachelors']\n",
      "====================================================================================================\n",
      "Shape of matrix after one hot encodig  (67187, 3) (67187,)\n",
      "Shape of matrix after one hot encodig  (67187, 3) (33093,)\n"
     ]
    }
   ],
   "source": [
    "vectorizer_cat = CountVectorizer(vocabulary=list(sorted_cat_edu.keys()), lowercase=False, binary=True)\n",
    "vectorizer_cat.fit(X_train['clean_education'].values)\n",
    "\n",
    "train_edu = vectorizer_cat.transform(X_train['clean_education'].values)\n",
    "test_edu = vectorizer_cat.transform(X_test['clean_education'].values)\n",
    "\n",
    "\n",
    "print(vectorizer_cat.get_feature_names())\n",
    "print(\"=\"*100)\n",
    "print(\"Shape of matrix after one hot encodig \",train_edu.shape, y_train.shape)\n",
    "print(\"Shape of matrix after one hot encodig \",train_edu.shape, y_test.shape)"
   ]
  },
  {
   "cell_type": "code",
   "execution_count": 47,
   "metadata": {
    "colab": {
     "base_uri": "https://localhost:8080/",
     "height": 104
    },
    "colab_type": "code",
    "id": "H39PRB2QNyV2",
    "outputId": "4337fedb-057f-4a07-e5cf-3aaf96650d44"
   },
   "outputs": [
    {
     "name": "stdout",
     "output_type": "stream",
     "text": [
      "['region_1', 'region_10', 'region_11', 'region_12', 'region_13', 'region_14', 'region_15', 'region_16', 'region_17', 'region_18', 'region_19', 'region_2', 'region_20', 'region_21', 'region_22', 'region_23', 'region_24', 'region_25', 'region_26', 'region_27', 'region_28', 'region_29', 'region_3', 'region_30', 'region_31', 'region_32', 'region_33', 'region_34', 'region_4', 'region_5', 'region_6', 'region_7', 'region_8', 'region_9']\n",
      "====================================================================================================\n",
      "Shape of matrix after one hot encodig  (67187, 34) (67187,)\n",
      "Shape of matrix after one hot encodig  (67187, 34) (33093,)\n"
     ]
    }
   ],
   "source": [
    "vectorizer_cat = CountVectorizer(lowercase=False, binary=True)\n",
    "vectorizer_cat.fit(X_train['region'].values)\n",
    "\n",
    "train_reg = vectorizer_cat.transform(X_train['region'].values)\n",
    "test_reg = vectorizer_cat.transform(X_test['region'].values)\n",
    "\n",
    "\n",
    "print(vectorizer_cat.get_feature_names())\n",
    "print(\"=\"*100)\n",
    "print(\"Shape of matrix after one hot encodig \",train_reg.shape, y_train.shape)\n",
    "print(\"Shape of matrix after one hot encodig \",train_reg.shape, y_test.shape)"
   ]
  },
  {
   "cell_type": "code",
   "execution_count": 48,
   "metadata": {
    "colab": {
     "base_uri": "https://localhost:8080/",
     "height": 84
    },
    "colab_type": "code",
    "id": "0x-8P5dzNyV6",
    "outputId": "57f183b2-3cdc-49e2-9a4c-ddf15341fca4"
   },
   "outputs": [
    {
     "name": "stdout",
     "output_type": "stream",
     "text": [
      "['other', 'referred', 'sourcing']\n",
      "====================================================================================================\n",
      "Shape of matrix after one hot encodig  (67187, 3) (67187,)\n",
      "Shape of matrix after one hot encodig  (67187, 3) (33093,)\n"
     ]
    }
   ],
   "source": [
    "vectorizer_cat = CountVectorizer(lowercase=False, binary=True)\n",
    "vectorizer_cat.fit(X_train['recruitment_channel'].values)\n",
    "\n",
    "train_rc = vectorizer_cat.transform(X_train['recruitment_channel'].values)\n",
    "test_rc = vectorizer_cat.transform(X_test['recruitment_channel'].values)\n",
    "\n",
    "\n",
    "print(vectorizer_cat.get_feature_names())\n",
    "print(\"=\"*100)\n",
    "print(\"Shape of matrix after one hot encodig \",train_rc.shape, y_train.shape)\n",
    "print(\"Shape of matrix after one hot encodig \",train_rc.shape, y_test.shape)"
   ]
  },
  {
   "cell_type": "code",
   "execution_count": 49,
   "metadata": {
    "colab": {},
    "colab_type": "code",
    "id": "THaj6342NyV9"
   },
   "outputs": [],
   "source": [
    "X_train['gen'] = np.where(X_train['gender'] == 'm', '1', '0')\n",
    "X_test['gen'] = np.where(X_test['gender'] == 'm', '1', '0')"
   ]
  },
  {
   "cell_type": "code",
   "execution_count": 50,
   "metadata": {
    "colab": {},
    "colab_type": "code",
    "id": "FTUwoqVnNyWB"
   },
   "outputs": [],
   "source": [
    "train_gender = X_train['gen'].values.reshape(-1,1)\n",
    "test_gender = X_test['gen'].values.reshape(-1,1)"
   ]
  },
  {
   "cell_type": "markdown",
   "metadata": {
    "colab_type": "text",
    "id": "7D6_wVjANyWE"
   },
   "source": [
    "<h3>Normalizer</h3>"
   ]
  },
  {
   "cell_type": "code",
   "execution_count": 51,
   "metadata": {
    "colab": {},
    "colab_type": "code",
    "id": "Kk5Csdv5NyWF"
   },
   "outputs": [],
   "source": [
    "train_awards = X_train['awards_won?'].values.reshape(-1,1)\n",
    "test_awards = X_test['awards_won?'].values.reshape(-1,1)"
   ]
  },
  {
   "cell_type": "code",
   "execution_count": 52,
   "metadata": {
    "colab": {},
    "colab_type": "code",
    "id": "5EgyOUN9NyWI"
   },
   "outputs": [],
   "source": [
    "train_trng_norm = X_train['no_of_trainings'].values.reshape(-1,1)\n",
    "test_trng_norm = X_test['no_of_trainings'].values.reshape(-1,1)"
   ]
  },
  {
   "cell_type": "code",
   "execution_count": 53,
   "metadata": {
    "colab": {},
    "colab_type": "code",
    "id": "n9JpYOBSNyWP"
   },
   "outputs": [],
   "source": [
    "train_age = X_train['age'].values.reshape(-1,1)\n",
    "test_age = X_test['age'].values.reshape(-1,1)"
   ]
  },
  {
   "cell_type": "code",
   "execution_count": 54,
   "metadata": {
    "colab": {},
    "colab_type": "code",
    "id": "hkIWcX2vNyWS"
   },
   "outputs": [],
   "source": [
    "train_pyr = X_train['previous_year_rating'].values.reshape(-1,1)\n",
    "test_pyr = X_test['previous_year_rating'].values.reshape(-1,1)"
   ]
  },
  {
   "cell_type": "code",
   "execution_count": 55,
   "metadata": {
    "colab": {},
    "colab_type": "code",
    "id": "sVfKuj7LNyWc"
   },
   "outputs": [],
   "source": [
    "train_los = X_train['length_of_service'].values.reshape(-1,1)\n",
    "test_los = X_test['length_of_service'].values.reshape(-1,1)"
   ]
  },
  {
   "cell_type": "code",
   "execution_count": 56,
   "metadata": {
    "colab": {},
    "colab_type": "code",
    "id": "RVhqr0LqNyWf"
   },
   "outputs": [],
   "source": [
    "train_kpi = X_train['KPIs_met >80%'].values.reshape(-1,1)\n",
    "test_kpi = X_test['KPIs_met >80%'].values.reshape(-1,1)"
   ]
  },
  {
   "cell_type": "code",
   "execution_count": 57,
   "metadata": {
    "colab": {},
    "colab_type": "code",
    "id": "xlx3Cwu8NyWi"
   },
   "outputs": [],
   "source": [
    "train_avg_trng = X_train['avg_training_score'].values.reshape(-1,1)\n",
    "test_avg_trng = X_test['avg_training_score'].values.reshape(-1,1)"
   ]
  },
  {
   "cell_type": "code",
   "execution_count": 58,
   "metadata": {
    "colab": {
     "base_uri": "https://localhost:8080/",
     "height": 67
    },
    "colab_type": "code",
    "id": "UIonca8vNyWl",
    "outputId": "ea887786-dafc-4c25-c32d-4d073935629a"
   },
   "outputs": [
    {
     "name": "stdout",
     "output_type": "stream",
     "text": [
      "(67187, 1) (67187,)\n",
      "(33093, 1) (33093,)\n",
      "====================================================================================================\n"
     ]
    }
   ],
   "source": [
    "from sklearn.preprocessing import Normalizer\n",
    "normalizer = Normalizer()\n",
    "\n",
    "train_gen = normalizer.transform(X_train['gen'].values.reshape(-1,1))\n",
    "test_gen = normalizer.transform(X_test['gen'].values.reshape(-1,1))\n",
    "\n",
    "print(train_gen.shape, y_train.shape)\n",
    "print(test_gen.shape, y_test.shape)\n",
    "print(\"=\"*100)"
   ]
  },
  {
   "cell_type": "code",
   "execution_count": 59,
   "metadata": {
    "colab": {
     "base_uri": "https://localhost:8080/",
     "height": 67
    },
    "colab_type": "code",
    "id": "6bDF3fa4NyWw",
    "outputId": "0d1744bd-5cbe-4a99-e09d-ef14dd0a8a7f"
   },
   "outputs": [
    {
     "name": "stdout",
     "output_type": "stream",
     "text": [
      "(67187, 1) (67187,)\n",
      "(67187, 1) (33093,)\n",
      "====================================================================================================\n"
     ]
    }
   ],
   "source": [
    "train_emp_id = X_train['employee_id'].values.reshape(-1,1)\n",
    "\n",
    "test_emp_id = X_test['employee_id'].values.reshape(-1,1)\n",
    "\n",
    "print(train_emp_id.shape, y_train.shape)\n",
    "print(train_emp_id.shape, y_test.shape)\n",
    "print(\"=\"*100)"
   ]
  },
  {
   "cell_type": "code",
   "execution_count": 60,
   "metadata": {
    "colab": {},
    "colab_type": "code",
    "id": "2cRJJF2LNyWy",
    "scrolled": true
   },
   "outputs": [],
   "source": [
    "train_age_gen = X_train['avg_age_gen'].values.reshape(-1,1)\n",
    "train_age_reg = X_train['avg_age_reg'].values.reshape(-1,1)\n",
    "train_age_dep = X_train['avg_age_dep'].values.reshape(-1,1)\n",
    "train_age_edu = X_train['avg_age_edu'].values.reshape(-1,1)\n",
    "train_birth = X_train['birth_year'].values.reshape(-1,1)"
   ]
  },
  {
   "cell_type": "code",
   "execution_count": 61,
   "metadata": {
    "colab": {},
    "colab_type": "code",
    "id": "H5xTQ-5uNyW1"
   },
   "outputs": [],
   "source": [
    "test_age_gen = X_test['avg_age_gen'].values.reshape(-1,1)\n",
    "test_age_reg = X_test['avg_age_reg'].values.reshape(-1,1)\n",
    "test_age_dep = X_test['avg_age_dep'].values.reshape(-1,1)\n",
    "test_age_edu = X_test['avg_age_edu'].values.reshape(-1,1)\n",
    "test_birth = X_test['birth_year'].values.reshape(-1,1)"
   ]
  },
  {
   "cell_type": "code",
   "execution_count": 62,
   "metadata": {
    "colab": {},
    "colab_type": "code",
    "id": "rXIoHx8PNyW4"
   },
   "outputs": [],
   "source": [
    "from scipy.sparse import hstack\n",
    "X_tr = hstack((train_emp_id, train_birth, train_age_gen, train_age_reg, train_age_dep, train_age_edu, train_trng_norm, train_gen, train_avg_trng, train_kpi, train_los, train_pyr, train_age, train_awards, train_edu, train_rc, train_reg, train_dep)).tocsr()\n",
    "X_te = hstack((test_emp_id, test_birth, test_age_gen, test_age_reg, test_age_dep, test_age_edu, test_trng_norm, test_gen, test_avg_trng, test_kpi, test_los, test_pyr, test_age, test_awards, test_edu, test_rc, test_reg, test_dep)).tocsr()"
   ]
  },
  {
   "cell_type": "code",
   "execution_count": 63,
   "metadata": {
    "colab": {},
    "colab_type": "code",
    "id": "-8VL_CnRNyW7"
   },
   "outputs": [],
   "source": [
    "# Confusion Matrix\n",
    "def predict_chek(proba, threshould, fpr, tpr):\n",
    "    t = threshould[np.argmax(fpr*(1-tpr))]\n",
    "    \n",
    "    predictions = []\n",
    "    for i in proba:\n",
    "        if i>=t:\n",
    "            predictions.append(1)\n",
    "        else:\n",
    "            predictions.append(0)\n",
    "    return predictions"
   ]
  },
  {
   "cell_type": "markdown",
   "metadata": {
    "colab_type": "text",
    "id": "e_7UX3AYNyW-"
   },
   "source": [
    "<h3>Feature Engineering</h3>"
   ]
  },
  {
   "cell_type": "code",
   "execution_count": 64,
   "metadata": {
    "colab": {},
    "colab_type": "code",
    "id": "oouh5w-6NyW_"
   },
   "outputs": [],
   "source": [
    "from sklearn.preprocessing import PolynomialFeatures\n",
    "X = X_tr\n",
    "\n",
    "poly = PolynomialFeatures(2)\n",
    "X_tr1 = poly.fit_transform(X)"
   ]
  },
  {
   "cell_type": "code",
   "execution_count": 65,
   "metadata": {
    "colab": {},
    "colab_type": "code",
    "id": "LkqPUEJDNyXB"
   },
   "outputs": [],
   "source": [
    "X = X_te\n",
    "\n",
    "poly = PolynomialFeatures(2)\n",
    "X_te1 = poly.fit_transform(X)"
   ]
  },
  {
   "cell_type": "code",
   "execution_count": 66,
   "metadata": {
    "colab": {
     "base_uri": "https://localhost:8080/",
     "height": 34
    },
    "colab_type": "code",
    "id": "EX9ohnyHNyXD",
    "outputId": "4f979469-b6e9-4743-a4c8-dac6455cf8eb"
   },
   "outputs": [
    {
     "data": {
      "text/plain": [
       "(33093, 2080)"
      ]
     },
     "execution_count": 66,
     "metadata": {},
     "output_type": "execute_result"
    }
   ],
   "source": [
    "X_te1.shape"
   ]
  },
  {
   "cell_type": "markdown",
   "metadata": {
    "colab_type": "text",
    "id": "rYmfmXc7NyXH"
   },
   "source": [
    "<h3>XGBoost</h3>"
   ]
  },
  {
   "cell_type": "code",
   "execution_count": 67,
   "metadata": {
    "colab": {},
    "colab_type": "code",
    "id": "MaSEGYmqNyXH"
   },
   "outputs": [
    {
     "name": "stdout",
     "output_type": "stream",
     "text": [
      "F1 Score : 0.9333333333333335\n",
      "Time taken : 1:05:24.902213\n"
     ]
    }
   ],
   "source": [
    "start = datetime.now()\n",
    "\n",
    "tuned_parameters = {'n_estimators' : [20,50,80,100,150], 'max_depth' : [3,5,8,10,12]}\n",
    "\n",
    "model = XGBClassifier()\n",
    "clf = GridSearchCV(model, tuned_parameters, cv=StratifiedKFold(3), return_train_score= True, scoring = 'f1')\n",
    "clf.fit(X_tr1, y_train)\n",
    "\n",
    "y_pred_acc = clf.predict(X_te1)\n",
    "\n",
    "print('F1 Score : ' + str(f1_score(y_test,y_pred_acc)))\n",
    "\n",
    "print('Time taken :', datetime.now() - start)"
   ]
  },
  {
   "cell_type": "code",
   "execution_count": 68,
   "metadata": {
    "colab": {
     "base_uri": "https://localhost:8080/",
     "height": 168
    },
    "colab_type": "code",
    "id": "qZFihIqvNyXK",
    "outputId": "c6ebeeb8-8f48-48ba-855a-5bb0066128bf"
   },
   "outputs": [
    {
     "name": "stdout",
     "output_type": "stream",
     "text": [
      "{'max_depth': 12, 'n_estimators': 150}\n",
      "--------------------------------------------------\n",
      "XGBClassifier(base_score=0.5, booster='gbtree', colsample_bylevel=1,\n",
      "              colsample_bynode=1, colsample_bytree=1, gamma=0,\n",
      "              learning_rate=0.1, max_delta_step=0, max_depth=12,\n",
      "              min_child_weight=1, missing=None, n_estimators=150, n_jobs=1,\n",
      "              nthread=None, objective='binary:logistic', random_state=0,\n",
      "              reg_alpha=0, reg_lambda=1, scale_pos_weight=1, seed=None,\n",
      "              silent=None, subsample=1, verbosity=1)\n"
     ]
    }
   ],
   "source": [
    "print(clf.best_params_)\n",
    "print('-'*50)\n",
    "print(clf.best_estimator_)"
   ]
  },
  {
   "cell_type": "code",
   "execution_count": 69,
   "metadata": {
    "colab": {
     "base_uri": "https://localhost:8080/",
     "height": 295
    },
    "colab_type": "code",
    "id": "gsflEWQ3NyXM",
    "outputId": "e3ea8831-7015-404c-9695-b52271a43e94"
   },
   "outputs": [
    {
     "data": {
      "image/png": "[encoded data removed]",
      "text/plain": [
       "<Figure size 432x288 with 1 Axes>"
      ]
     },
     "metadata": {
      "needs_background": "light"
     },
     "output_type": "display_data"
    }
   ],
   "source": [
    "model = XGBClassifier(base_score=0.5, booster='gbtree', colsample_bylevel=1,\n",
    "              colsample_bynode=1, colsample_bytree=1, gamma=0,\n",
    "              learning_rate=0.1, max_delta_step=0, max_depth=8,\n",
    "              min_child_weight=1, missing=None, n_estimators=100, n_jobs=1,\n",
    "              nthread=None, objective='binary:logistic', random_state= 42,\n",
    "              reg_alpha=0, reg_lambda=1, scale_pos_weight=1, seed=None,\n",
    "              silent=None, subsample=1, verbosity=1)\n",
    "\n",
    "model.fit(X_tr1, y_train)\n",
    "\n",
    "train_fpr, train_tpr, tr_thresholds = roc_curve(y_train, model.predict_proba(X_tr1)[:,1])\n",
    "test_fpr, test_tpr, te_thresholds = roc_curve(y_test, model.predict_proba(X_te1)[:,1])\n",
    "\n",
    "plt.plot(train_fpr, train_tpr, label=\"train AUC =\"+str(auc(train_fpr, train_tpr)))\n",
    "plt.plot(test_fpr, test_tpr, label=\"test AUC =\"+str(auc(test_fpr, test_tpr)))\n",
    "plt.legend()\n",
    "plt.xlabel(\"Hyperparameter\")\n",
    "plt.ylabel(\"AUC\")\n",
    "plt.title(\"ERROR PLOTS\")\n",
    "plt.show()"
   ]
  },
  {
   "cell_type": "code",
   "execution_count": 70,
   "metadata": {
    "colab": {
     "base_uri": "https://localhost:8080/",
     "height": 50
    },
    "colab_type": "code",
    "id": "MKe_7S-4sWAJ",
    "outputId": "fd206494-78ed-4ead-aab6-5cde3609ffa1"
   },
   "outputs": [
    {
     "name": "stdout",
     "output_type": "stream",
     "text": [
      "F1 Score test: 0.8880810323296794\n",
      "F1 Score train: 0.8985984021231305\n"
     ]
    }
   ],
   "source": [
    "y_pred_test = model.predict(X_te1)\n",
    "y_pred_train = model.predict(X_tr1)\n",
    "\n",
    "print('F1 Score test: ' + str(f1_score(y_test,y_pred_test)))\n",
    "print('F1 Score train: ' + str(f1_score(y_train,y_pred_train)))"
   ]
  },
  {
   "cell_type": "code",
   "execution_count": 71,
   "metadata": {
    "colab": {
     "base_uri": "https://localhost:8080/",
     "height": 262
    },
    "colab_type": "code",
    "id": "IIsYWjJJNyXP",
    "outputId": "bee1673a-977d-494f-986a-4ce7d8e9089b"
   },
   "outputs": [
    {
     "data": {
      "text/plain": [
       "Text(0.5, 1.0, 'Confusion matrix Test')"
      ]
     },
     "execution_count": 71,
     "metadata": {},
     "output_type": "execute_result"
    },
    {
     "data": {
      "image/png": "[encoded data removed]",
      "text/plain": [
       "<Figure size 648x216 with 4 Axes>"
      ]
     },
     "metadata": {
      "needs_background": "light"
     },
     "output_type": "display_data"
    }
   ],
   "source": [
    "plt.figure(figsize = (9,3))\n",
    "plt.subplot(121)\n",
    "cnf_matrix = metrics.confusion_matrix(y_train, predict_chek(model.predict_proba(X_tr1)[:,1], tr_thresholds, train_fpr, train_tpr))\n",
    "p = sns.heatmap(pd.DataFrame(cnf_matrix), annot=True, cmap=\"Greens\" ,fmt='g')\n",
    "p.yaxis.set_ticklabels(p.yaxis.get_ticklabels(), rotation=0, ha='right', fontsize=24)\n",
    "p.xaxis.set_ticklabels(p.xaxis.get_ticklabels(), rotation=0, ha='right', fontsize=14)\n",
    "plt.ylabel('True label',size=18)\n",
    "plt.xlabel('Predict label',size=18)\n",
    "plt.title(\"Confusion Matrix Train\",size=20)\n",
    "\n",
    "\n",
    "plt.tight_layout(pad = 0.1, w_pad = 12, h_pad = 0.5)\n",
    "plt.subplot(122)\n",
    "cnf_matrix = metrics.confusion_matrix(y_test, predict_chek(model.predict_proba(X_te1)[:,1], te_thresholds, test_fpr, test_tpr))\n",
    "p = sns.heatmap(pd.DataFrame(cnf_matrix), annot=True, cmap=\"BuPu\" ,fmt='d')\n",
    "p.yaxis.set_ticklabels(p.yaxis.get_ticklabels(), rotation=0, ha='right', fontsize=14)\n",
    "p.xaxis.set_ticklabels(p.xaxis.get_ticklabels(), rotation=0, ha='right', fontsize=14)\n",
    "plt.ylabel('True label',size=18)\n",
    "plt.xlabel('Predict label',size=18)\n",
    "plt.title(\"Confusion matrix Test\",size=20)"
   ]
  },
  {
   "cell_type": "markdown",
   "metadata": {
    "colab_type": "text",
    "id": "a44SBDoWh9wM"
   },
   "source": [
    "**Conclusion**\n",
    "\n",
    "1. As we increased the number of features the accuracy also improved.\n",
    "\n",
    "2. Feature Engineering holds the utmost importance.\n",
    "\n",
    "3. We have done upsampling of datapoints as the given dataset is highly imbalanced. This holds true in any organization as number of employees getting promoted will be very less.\n",
    "\n",
    "4. By upsampling the performance has been improved significantly.\n",
    "\n",
    "6. We have imputed missing values by most frequent values.\n",
    "\n",
    "7. We realized that normaliation is not required in XGBOOST as without normalizing numerical data the accuracy/ f1 score improved drastically."
   ]
  },
  {
   "cell_type": "markdown",
   "metadata": {},
   "source": [
    "Saving model in pickel file"
   ]
  },
  {
   "cell_type": "code",
   "execution_count": 75,
   "metadata": {},
   "outputs": [],
   "source": [
    "import pickle\n",
    "pickle.dump(model, open('model.pkl','wb'))"
   ]
  },
  {
   "cell_type": "code",
   "execution_count": 77,
   "metadata": {},
   "outputs": [],
   "source": [
    "model_pick = pickle.load(open('model.pkl','rb'))\n",
    "# print(model_pick.predict([[2, 9, 6]]))"
   ]
  }
 ],
 "metadata": {
  "accelerator": "GPU",
  "colab": {
   "collapsed_sections": [],
   "name": "HR.ipynb",
   "provenance": []
  },
  "kernelspec": {
   "display_name": "Python 3",
   "language": "python",
   "name": "python3"
  },
  "language_info": {
   "codemirror_mode": {
    "name": "ipython",
    "version": 3
   },
   "file_extension": ".py",
   "mimetype": "text/x-python",
   "name": "python",
   "nbconvert_exporter": "python",
   "pygments_lexer": "ipython3",
   "version": "3.7.3"
  }
 },
 "nbformat": 4,
 "nbformat_minor": 1
}
